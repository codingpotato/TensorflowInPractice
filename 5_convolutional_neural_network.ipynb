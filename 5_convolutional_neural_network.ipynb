{
 "cells": [
  {
   "cell_type": "markdown",
   "metadata": {},
   "source": [
    "# 1. Problem"
   ]
  },
  {
   "cell_type": "code",
   "execution_count": 1,
   "metadata": {},
   "outputs": [
    {
     "name": "stdout",
     "output_type": "stream",
     "text": [
      "WARNING:tensorflow:From <ipython-input-1-c65c58a2baf8>:5: read_data_sets (from tensorflow.contrib.learn.python.learn.datasets.mnist) is deprecated and will be removed in a future version.\n",
      "Instructions for updating:\n",
      "Please use alternatives such as official/mnist/dataset.py from tensorflow/models.\n",
      "WARNING:tensorflow:From c:\\users\\305018257\\appdata\\local\\programs\\python\\python36\\lib\\site-packages\\tensorflow\\contrib\\learn\\python\\learn\\datasets\\mnist.py:260: maybe_download (from tensorflow.contrib.learn.python.learn.datasets.base) is deprecated and will be removed in a future version.\n",
      "Instructions for updating:\n",
      "Please write your own downloading logic.\n",
      "WARNING:tensorflow:From c:\\users\\305018257\\appdata\\local\\programs\\python\\python36\\lib\\site-packages\\tensorflow\\contrib\\learn\\python\\learn\\datasets\\mnist.py:262: extract_images (from tensorflow.contrib.learn.python.learn.datasets.mnist) is deprecated and will be removed in a future version.\n",
      "Instructions for updating:\n",
      "Please use tf.data to implement this functionality.\n",
      "Extracting ./mnist_data/train-images-idx3-ubyte.gz\n",
      "WARNING:tensorflow:From c:\\users\\305018257\\appdata\\local\\programs\\python\\python36\\lib\\site-packages\\tensorflow\\contrib\\learn\\python\\learn\\datasets\\mnist.py:267: extract_labels (from tensorflow.contrib.learn.python.learn.datasets.mnist) is deprecated and will be removed in a future version.\n",
      "Instructions for updating:\n",
      "Please use tf.data to implement this functionality.\n",
      "Extracting ./mnist_data/train-labels-idx1-ubyte.gz\n",
      "Extracting ./mnist_data/t10k-images-idx3-ubyte.gz\n",
      "Extracting ./mnist_data/t10k-labels-idx1-ubyte.gz\n",
      "WARNING:tensorflow:From c:\\users\\305018257\\appdata\\local\\programs\\python\\python36\\lib\\site-packages\\tensorflow\\contrib\\learn\\python\\learn\\datasets\\mnist.py:290: DataSet.__init__ (from tensorflow.contrib.learn.python.learn.datasets.mnist) is deprecated and will be removed in a future version.\n",
      "Instructions for updating:\n",
      "Please use alternatives such as official/mnist/dataset.py from tensorflow/models.\n"
     ]
    }
   ],
   "source": [
    "import tensorflow as tf\n",
    "\n",
    "# Import MINST data\n",
    "from tensorflow.examples.tutorials.mnist import input_data\n",
    "mnist = input_data.read_data_sets(\"./mnist_data/\", one_hot=False)"
   ]
  },
  {
   "cell_type": "markdown",
   "metadata": {},
   "source": [
    "# 2. Convolutional Neural Network\n",
    "![](images/cnn.gif)\n",
    "![](images/cnn.png)\n",
    "![](images/convolution_result.jpg)"
   ]
  },
  {
   "cell_type": "markdown",
   "metadata": {},
   "source": [
    "# 3. Train"
   ]
  },
  {
   "cell_type": "code",
   "execution_count": 2,
   "metadata": {},
   "outputs": [],
   "source": [
    "# Training Parameters\n",
    "learning_rate = 0.001\n",
    "num_steps = 3000\n",
    "batch_size = 128\n",
    "\n",
    "# Network Parameters\n",
    "num_input = 784         # MNIST data input (img shape: 28*28)\n",
    "num_classes = 10        # MNIST total classes (0-9 digits)\n",
    "dropout = 0.25          # Dropout, probability to drop a unit"
   ]
  },
  {
   "cell_type": "code",
   "execution_count": 3,
   "metadata": {},
   "outputs": [],
   "source": [
    "def conv_net(x_dict, n_classes, dropout, reuse, is_training):\n",
    "    with tf.variable_scope('ConvNet', reuse=reuse):\n",
    "        x = x_dict['images']\n",
    "        x = tf.reshape(x, shape=[-1, 28, 28, 1])\n",
    "\n",
    "        # Convolution Layer with 32 filters and a kernel size of 5\n",
    "        conv1 = tf.layers.conv2d(x, 32, 5, activation=tf.nn.relu)\n",
    "        # Max Pooling (down-sampling) with strides of 2 and kernel size of 2\n",
    "        conv1 = tf.layers.max_pooling2d(conv1, 2, 2)\n",
    "\n",
    "        # Convolution Layer with 64 filters and a kernel size of 5\n",
    "        conv2 = tf.layers.conv2d(conv1, 64, 5, activation=tf.nn.relu)\n",
    "        # Max Pooling (down-sampling) with strides of 2 and kernel size of 2\n",
    "        conv2 = tf.layers.max_pooling2d(conv2, 2, 2)\n",
    "\n",
    "        # Flatten the data to a 1-D vector for the fully connected layer\n",
    "        fc1 = tf.contrib.layers.flatten(conv2)\n",
    "\n",
    "        # Fully connected layer (in tf contrib folder for now)\n",
    "        fc1 = tf.layers.dense(fc1, 1024)\n",
    "        # Apply Dropout (if is_training is False, dropout is not applied)\n",
    "        fc1 = tf.layers.dropout(fc1, rate=dropout, training=is_training)\n",
    "\n",
    "        # Output layer, class prediction\n",
    "        out = tf.layers.dense(fc1, n_classes)\n",
    "        return out"
   ]
  },
  {
   "cell_type": "code",
   "execution_count": 4,
   "metadata": {},
   "outputs": [],
   "source": [
    "# Define the model function (following TF Estimator Template)\n",
    "def model_fn(features, labels, mode):\n",
    "    \n",
    "    # Build the neural network\n",
    "    # Because Dropout have different behavior at training and prediction time, we\n",
    "    # need to create 2 distinct computation graphs that still share the same weights.\n",
    "    logits_train = conv_net(features, num_classes, dropout, reuse=False, is_training=True)\n",
    "    logits_test = conv_net(features, num_classes, dropout, reuse=True, is_training=False)\n",
    "    \n",
    "    # Predictions\n",
    "    pred_classes = tf.argmax(logits_test, axis=1)\n",
    "    pred_probas = tf.nn.softmax(logits_test)\n",
    "    \n",
    "    # If prediction mode, early return\n",
    "    if mode == tf.estimator.ModeKeys.PREDICT:\n",
    "        return tf.estimator.EstimatorSpec(mode, predictions=pred_classes) \n",
    "        \n",
    "    # Define loss and optimizer\n",
    "    loss_op = tf.reduce_mean(tf.nn.sparse_softmax_cross_entropy_with_logits(\n",
    "        logits=logits_train, labels=tf.cast(labels, dtype=tf.int32)))\n",
    "    optimizer = tf.train.AdamOptimizer(learning_rate=learning_rate)\n",
    "    train_op = optimizer.minimize(loss_op, global_step=tf.train.get_global_step())\n",
    "    \n",
    "    # Evaluate the accuracy of the model\n",
    "    acc_op = tf.metrics.accuracy(labels=labels, predictions=pred_classes)\n",
    "\n",
    "    return tf.estimator.EstimatorSpec(mode=mode, predictions=pred_classes,\n",
    "      loss=loss_op, train_op=train_op, eval_metric_ops={'accuracy': acc_op})"
   ]
  },
  {
   "cell_type": "code",
   "execution_count": 5,
   "metadata": {},
   "outputs": [
    {
     "name": "stdout",
     "output_type": "stream",
     "text": [
      "INFO:tensorflow:Using default config.\n",
      "WARNING:tensorflow:Using temporary folder as model directory: C:\\Temp\\tmpiw8s20i9\n",
      "INFO:tensorflow:Using config: {'_model_dir': 'C:\\\\Temp\\\\tmpiw8s20i9', '_tf_random_seed': None, '_save_summary_steps': 100, '_save_checkpoints_steps': None, '_save_checkpoints_secs': 600, '_session_config': None, '_keep_checkpoint_max': 5, '_keep_checkpoint_every_n_hours': 10000, '_log_step_count_steps': 100, '_train_distribute': None, '_service': None, '_cluster_spec': <tensorflow.python.training.server_lib.ClusterSpec object at 0x0000000011F32240>, '_task_type': 'worker', '_task_id': 0, '_global_id_in_cluster': 0, '_master': '', '_evaluation_master': '', '_is_chief': True, '_num_ps_replicas': 0, '_num_worker_replicas': 1}\n",
      "INFO:tensorflow:Calling model_fn.\n",
      "INFO:tensorflow:Done calling model_fn.\n",
      "INFO:tensorflow:Create CheckpointSaverHook.\n",
      "INFO:tensorflow:Graph was finalized.\n",
      "INFO:tensorflow:Running local_init_op.\n",
      "INFO:tensorflow:Done running local_init_op.\n",
      "INFO:tensorflow:Saving checkpoints for 1 into C:\\Temp\\tmpiw8s20i9\\model.ckpt.\n",
      "INFO:tensorflow:loss = 2.3140838, step = 1\n",
      "INFO:tensorflow:global_step/sec: 6.26127\n",
      "INFO:tensorflow:loss = 0.14441055, step = 101 (15.971 sec)\n",
      "INFO:tensorflow:global_step/sec: 6.93202\n",
      "INFO:tensorflow:loss = 0.123678625, step = 201 (14.426 sec)\n",
      "INFO:tensorflow:global_step/sec: 6.74182\n",
      "INFO:tensorflow:loss = 0.043102775, step = 301 (14.833 sec)\n",
      "INFO:tensorflow:global_step/sec: 6.75265\n",
      "INFO:tensorflow:loss = 0.118260816, step = 401 (14.809 sec)\n",
      "INFO:tensorflow:global_step/sec: 7.13633\n",
      "INFO:tensorflow:loss = 0.045879383, step = 501 (14.013 sec)\n",
      "INFO:tensorflow:global_step/sec: 6.92224\n",
      "INFO:tensorflow:loss = 0.020383826, step = 601 (14.446 sec)\n",
      "INFO:tensorflow:global_step/sec: 6.85711\n",
      "INFO:tensorflow:loss = 0.08627182, step = 701 (14.583 sec)\n",
      "INFO:tensorflow:global_step/sec: 7.03116\n",
      "INFO:tensorflow:loss = 0.034213483, step = 801 (14.222 sec)\n",
      "INFO:tensorflow:global_step/sec: 6.46496\n",
      "INFO:tensorflow:loss = 0.025302846, step = 901 (15.468 sec)\n",
      "INFO:tensorflow:global_step/sec: 7.19197\n",
      "INFO:tensorflow:loss = 0.20058565, step = 1001 (13.904 sec)\n",
      "INFO:tensorflow:global_step/sec: 6.76892\n",
      "INFO:tensorflow:loss = 0.020724801, step = 1101 (14.773 sec)\n",
      "INFO:tensorflow:global_step/sec: 7.10247\n",
      "INFO:tensorflow:loss = 0.026823023, step = 1201 (14.080 sec)\n",
      "INFO:tensorflow:global_step/sec: 6.88768\n",
      "INFO:tensorflow:loss = 0.001999137, step = 1301 (14.519 sec)\n",
      "INFO:tensorflow:global_step/sec: 6.76742\n",
      "INFO:tensorflow:loss = 0.009731589, step = 1401 (14.777 sec)\n",
      "INFO:tensorflow:global_step/sec: 6.91398\n",
      "INFO:tensorflow:loss = 0.0035151413, step = 1501 (14.465 sec)\n",
      "INFO:tensorflow:global_step/sec: 6.71525\n",
      "INFO:tensorflow:loss = 0.007988304, step = 1601 (14.889 sec)\n",
      "INFO:tensorflow:global_step/sec: 7.0084\n",
      "INFO:tensorflow:loss = 0.02772198, step = 1701 (14.269 sec)\n",
      "INFO:tensorflow:global_step/sec: 6.97578\n",
      "INFO:tensorflow:loss = 0.027407533, step = 1801 (14.351 sec)\n",
      "INFO:tensorflow:global_step/sec: 6.41414\n",
      "INFO:tensorflow:loss = 0.033451382, step = 1901 (15.575 sec)\n",
      "INFO:tensorflow:global_step/sec: 6.73331\n",
      "INFO:tensorflow:loss = 0.014087309, step = 2001 (14.852 sec)\n",
      "INFO:tensorflow:global_step/sec: 6.76277\n",
      "INFO:tensorflow:loss = 0.024338035, step = 2101 (14.787 sec)\n",
      "INFO:tensorflow:global_step/sec: 7.15454\n",
      "INFO:tensorflow:loss = 0.025719827, step = 2201 (13.977 sec)\n",
      "INFO:tensorflow:global_step/sec: 7.19283\n",
      "INFO:tensorflow:loss = 0.0107823545, step = 2301 (13.903 sec)\n",
      "INFO:tensorflow:global_step/sec: 6.54783\n",
      "INFO:tensorflow:loss = 0.026414515, step = 2401 (15.272 sec)\n",
      "INFO:tensorflow:global_step/sec: 6.84997\n",
      "INFO:tensorflow:loss = 0.003229202, step = 2501 (14.599 sec)\n",
      "INFO:tensorflow:global_step/sec: 6.71724\n",
      "INFO:tensorflow:loss = 0.0037042494, step = 2601 (14.887 sec)\n",
      "INFO:tensorflow:global_step/sec: 6.89432\n",
      "INFO:tensorflow:loss = 0.0015116375, step = 2701 (14.520 sec)\n",
      "INFO:tensorflow:global_step/sec: 6.64759\n",
      "INFO:tensorflow:loss = 0.007259387, step = 2801 (15.027 sec)\n",
      "INFO:tensorflow:global_step/sec: 6.84337\n",
      "INFO:tensorflow:loss = 0.001664765, step = 2901 (14.628 sec)\n",
      "INFO:tensorflow:Saving checkpoints for 3000 into C:\\Temp\\tmpiw8s20i9\\model.ckpt.\n",
      "INFO:tensorflow:Loss for final step: 0.004273711.\n"
     ]
    },
    {
     "data": {
      "text/plain": [
       "<tensorflow.python.estimator.estimator.Estimator at 0x11f321d0>"
      ]
     },
     "execution_count": 5,
     "metadata": {},
     "output_type": "execute_result"
    }
   ],
   "source": [
    "model = tf.estimator.Estimator(model_fn)\n",
    "input_fn = tf.estimator.inputs.numpy_input_fn(\n",
    "    x={'images': mnist.train.images}, y=mnist.train.labels,\n",
    "    batch_size=batch_size, num_epochs=None, shuffle=True)\n",
    "model.train(input_fn, steps=num_steps)"
   ]
  },
  {
   "cell_type": "markdown",
   "metadata": {},
   "source": [
    "# 4. Evaluate"
   ]
  },
  {
   "cell_type": "code",
   "execution_count": 6,
   "metadata": {},
   "outputs": [
    {
     "name": "stdout",
     "output_type": "stream",
     "text": [
      "INFO:tensorflow:Calling model_fn.\n",
      "INFO:tensorflow:Done calling model_fn.\n",
      "INFO:tensorflow:Starting evaluation at 2018-07-09-01:11:16\n",
      "INFO:tensorflow:Graph was finalized.\n",
      "INFO:tensorflow:Restoring parameters from C:\\Temp\\tmpiw8s20i9\\model.ckpt-3000\n",
      "INFO:tensorflow:Running local_init_op.\n",
      "INFO:tensorflow:Done running local_init_op.\n",
      "INFO:tensorflow:Finished evaluation at 2018-07-09-01:11:20\n",
      "INFO:tensorflow:Saving dict for global step 3000: accuracy = 0.9903, global_step = 3000, loss = 0.038247574\n"
     ]
    },
    {
     "data": {
      "text/plain": [
       "{'accuracy': 0.9903, 'loss': 0.038247574, 'global_step': 3000}"
      ]
     },
     "execution_count": 6,
     "metadata": {},
     "output_type": "execute_result"
    }
   ],
   "source": [
    "input_fn = tf.estimator.inputs.numpy_input_fn(\n",
    "    x={'images': mnist.test.images}, y=mnist.test.labels,\n",
    "    batch_size=batch_size, shuffle=False)\n",
    "model.evaluate(input_fn)"
   ]
  },
  {
   "cell_type": "code",
   "execution_count": 8,
   "metadata": {},
   "outputs": [
    {
     "name": "stdout",
     "output_type": "stream",
     "text": [
      "INFO:tensorflow:Calling model_fn.\n",
      "INFO:tensorflow:Done calling model_fn.\n",
      "INFO:tensorflow:Graph was finalized.\n",
      "INFO:tensorflow:Restoring parameters from C:\\Temp\\tmpiw8s20i9\\model.ckpt-3000\n",
      "INFO:tensorflow:Running local_init_op.\n",
      "INFO:tensorflow:Done running local_init_op.\n"
     ]
    },
    {
     "data": {
      "image/png": "[encoded data removed]",
      "text/plain": [
       "<Figure size 432x288 with 1 Axes>"
      ]
     },
     "metadata": {},
     "output_type": "display_data"
    },
    {
     "name": "stdout",
     "output_type": "stream",
     "text": [
      "Label:  5      Model prediction: 3\n"
     ]
    },
    {
     "data": {
      "image/png": "[encoded data removed]",
      "text/plain": [
       "<Figure size 432x288 with 1 Axes>"
      ]
     },
     "metadata": {},
     "output_type": "display_data"
    },
    {
     "name": "stdout",
     "output_type": "stream",
     "text": [
      "Label:  6      Model prediction: 0\n"
     ]
    },
    {
     "data": {
      "image/png": "[encoded data removed]",
      "text/plain": [
       "<Figure size 432x288 with 1 Axes>"
      ]
     },
     "metadata": {},
     "output_type": "display_data"
    },
    {
     "name": "stdout",
     "output_type": "stream",
     "text": [
      "Label:  4      Model prediction: 9\n"
     ]
    },
    {
     "data": {
      "image/png": "[encoded data removed]",
      "text/plain": [
       "<Figure size 432x288 with 1 Axes>"
      ]
     },
     "metadata": {},
     "output_type": "display_data"
    },
    {
     "name": "stdout",
     "output_type": "stream",
     "text": [
      "Label:  3      Model prediction: 5\n"
     ]
    },
    {
     "data": {
      "image/png": "[encoded data removed]",
      "text/plain": [
       "<Figure size 432x288 with 1 Axes>"
      ]
     },
     "metadata": {},
     "output_type": "display_data"
    },
    {
     "name": "stdout",
     "output_type": "stream",
     "text": [
      "Label:  8      Model prediction: 2\n"
     ]
    }
   ],
   "source": [
    "import matplotlib.pyplot as plt\n",
    "import numpy as np\n",
    "\n",
    "input_fn = tf.estimator.inputs.numpy_input_fn(x={'images': mnist.test.images}, shuffle=False)\n",
    "preds = np.asarray(list(model.predict(input_fn)))\n",
    "error_pred = np.not_equal(preds, mnist.test.labels)\n",
    "error_images = mnist.test.images[error_pred]\n",
    "error_labels = mnist.test.labels[error_pred]\n",
    "error_p = preds[error_pred]\n",
    "\n",
    "for i in range(5):\n",
    "    plt.imshow(np.reshape(error_images[i], [28, 28]), cmap='gray')\n",
    "    plt.show()\n",
    "    print(\"Label: \", error_labels[i], \"     Model prediction:\", error_p[i])"
   ]
  }
 ],
 "metadata": {
  "kernelspec": {
   "display_name": "Python 3",
   "language": "python",
   "name": "python3"
  },
  "language_info": {
   "codemirror_mode": {
    "name": "ipython",
    "version": 3
   },
   "file_extension": ".py",
   "mimetype": "text/x-python",
   "name": "python",
   "nbconvert_exporter": "python",
   "pygments_lexer": "ipython3",
   "version": "3.6.5"
  }
 },
 "nbformat": 4,
 "nbformat_minor": 2
}
