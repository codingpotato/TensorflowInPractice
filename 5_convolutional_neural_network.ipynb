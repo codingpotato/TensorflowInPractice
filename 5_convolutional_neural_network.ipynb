{
 "cells": [
  {
   "cell_type": "markdown",
   "metadata": {},
   "source": [
    "# 1. Problem"
   ]
  },
  {
   "cell_type": "code",
   "execution_count": 1,
   "metadata": {},
   "outputs": [
    {
     "name": "stdout",
     "output_type": "stream",
     "text": [
      "Extracting ./mnist_data/train-images-idx3-ubyte.gz\n",
      "Extracting ./mnist_data/train-labels-idx1-ubyte.gz\n",
      "Extracting ./mnist_data/t10k-images-idx3-ubyte.gz\n",
      "Extracting ./mnist_data/t10k-labels-idx1-ubyte.gz\n"
     ]
    }
   ],
   "source": [
    "import tensorflow as tf\n",
    "\n",
    "# Import MINST data\n",
    "from tensorflow.examples.tutorials.mnist import input_data\n",
    "mnist = input_data.read_data_sets(\"./mnist_data/\", one_hot=False)"
   ]
  },
  {
   "cell_type": "markdown",
   "metadata": {},
   "source": [
    "# 2. Convolutional Neural Network\n",
    "![](images/cnn.gif)\n",
    "![](images/cnn.png)\n",
    "![](images/convolution_result.jpg)"
   ]
  },
  {
   "cell_type": "markdown",
   "metadata": {},
   "source": [
    "# 3. Train"
   ]
  },
  {
   "cell_type": "code",
   "execution_count": 2,
   "metadata": {},
   "outputs": [],
   "source": [
    "# Training Parameters\n",
    "learning_rate = 0.001\n",
    "num_steps = 3000\n",
    "batch_size = 128\n",
    "\n",
    "# Network Parameters\n",
    "num_input = 784         # MNIST data input (img shape: 28*28)\n",
    "num_classes = 10        # MNIST total classes (0-9 digits)\n",
    "dropout = 0.25          # Dropout, probability to drop a unit"
   ]
  },
  {
   "cell_type": "code",
   "execution_count": 3,
   "metadata": {},
   "outputs": [],
   "source": [
    "def conv_net(x_dict, n_classes, dropout, reuse, is_training):\n",
    "    with tf.variable_scope('ConvNet', reuse=reuse):\n",
    "        x = x_dict['images']\n",
    "        x = tf.reshape(x, shape=[-1, 28, 28, 1])\n",
    "\n",
    "        # Convolution Layer with 32 filters and a kernel size of 5\n",
    "        conv1 = tf.layers.conv2d(x, 32, 5, activation=tf.nn.relu)\n",
    "        # Max Pooling (down-sampling) with strides of 2 and kernel size of 2\n",
    "        conv1 = tf.layers.max_pooling2d(conv1, 2, 2)\n",
    "\n",
    "        # Convolution Layer with 64 filters and a kernel size of 5\n",
    "        conv2 = tf.layers.conv2d(conv1, 64, 5, activation=tf.nn.relu)\n",
    "        # Max Pooling (down-sampling) with strides of 2 and kernel size of 2\n",
    "        conv2 = tf.layers.max_pooling2d(conv2, 2, 2)\n",
    "\n",
    "        # Flatten the data to a 1-D vector for the fully connected layer\n",
    "        fc1 = tf.contrib.layers.flatten(conv2)\n",
    "\n",
    "        # Fully connected layer (in tf contrib folder for now)\n",
    "        fc1 = tf.layers.dense(fc1, 1024)\n",
    "        # Apply Dropout (if is_training is False, dropout is not applied)\n",
    "        fc1 = tf.layers.dropout(fc1, rate=dropout, training=is_training)\n",
    "\n",
    "        # Output layer, class prediction\n",
    "        out = tf.layers.dense(fc1, n_classes)\n",
    "        return out"
   ]
  },
  {
   "cell_type": "code",
   "execution_count": 4,
   "metadata": {},
   "outputs": [],
   "source": [
    "# Define the model function (following TF Estimator Template)\n",
    "def model_fn(features, labels, mode):\n",
    "    \n",
    "    # Build the neural network\n",
    "    # Because Dropout have different behavior at training and prediction time, we\n",
    "    # need to create 2 distinct computation graphs that still share the same weights.\n",
    "    logits_train = conv_net(features, num_classes, dropout, reuse=False, is_training=True)\n",
    "    logits_test = conv_net(features, num_classes, dropout, reuse=True, is_training=False)\n",
    "    \n",
    "    # Predictions\n",
    "    pred_classes = tf.argmax(logits_test, axis=1)\n",
    "    pred_probas = tf.nn.softmax(logits_test)\n",
    "    \n",
    "    # If prediction mode, early return\n",
    "    if mode == tf.estimator.ModeKeys.PREDICT:\n",
    "        return tf.estimator.EstimatorSpec(mode, predictions=pred_classes) \n",
    "        \n",
    "    # Define loss and optimizer\n",
    "    loss_op = tf.reduce_mean(tf.nn.sparse_softmax_cross_entropy_with_logits(\n",
    "        logits=logits_train, labels=tf.cast(labels, dtype=tf.int32)))\n",
    "    optimizer = tf.train.AdamOptimizer(learning_rate=learning_rate)\n",
    "    train_op = optimizer.minimize(loss_op, global_step=tf.train.get_global_step())\n",
    "    \n",
    "    # Evaluate the accuracy of the model\n",
    "    acc_op = tf.metrics.accuracy(labels=labels, predictions=pred_classes)\n",
    "\n",
    "    return tf.estimator.EstimatorSpec(mode=mode, predictions=pred_classes,\n",
    "      loss=loss_op, train_op=train_op, eval_metric_ops={'accuracy': acc_op})"
   ]
  },
  {
   "cell_type": "code",
   "execution_count": 5,
   "metadata": {},
   "outputs": [
    {
     "name": "stdout",
     "output_type": "stream",
     "text": [
      "INFO:tensorflow:Using default config.\n",
      "WARNING:tensorflow:Using temporary folder as model directory: /var/folders/6p/yqt9w6sx0330_s_nfp4gzzm40000gn/T/tmptqzro2lc\n",
      "INFO:tensorflow:Using config: {'_model_dir': '/var/folders/6p/yqt9w6sx0330_s_nfp4gzzm40000gn/T/tmptqzro2lc', '_tf_random_seed': None, '_save_summary_steps': 100, '_save_checkpoints_steps': None, '_save_checkpoints_secs': 600, '_session_config': None, '_keep_checkpoint_max': 5, '_keep_checkpoint_every_n_hours': 10000, '_log_step_count_steps': 100, '_service': None, '_cluster_spec': <tensorflow.python.training.server_lib.ClusterSpec object at 0x11f8d5080>, '_task_type': 'worker', '_task_id': 0, '_master': '', '_is_chief': True, '_num_ps_replicas': 0, '_num_worker_replicas': 1}\n",
      "INFO:tensorflow:Create CheckpointSaverHook.\n",
      "INFO:tensorflow:Saving checkpoints for 1 into /var/folders/6p/yqt9w6sx0330_s_nfp4gzzm40000gn/T/tmptqzro2lc/model.ckpt.\n",
      "INFO:tensorflow:loss = 2.2993, step = 1\n",
      "INFO:tensorflow:global_step/sec: 19.619\n",
      "INFO:tensorflow:loss = 0.23634, step = 101 (5.098 sec)\n",
      "INFO:tensorflow:global_step/sec: 20.0399\n",
      "INFO:tensorflow:loss = 0.126044, step = 201 (4.990 sec)\n",
      "INFO:tensorflow:global_step/sec: 20.571\n",
      "INFO:tensorflow:loss = 0.0253009, step = 301 (4.861 sec)\n",
      "INFO:tensorflow:global_step/sec: 20.5841\n",
      "INFO:tensorflow:loss = 0.02497, step = 401 (4.859 sec)\n",
      "INFO:tensorflow:global_step/sec: 20.2068\n",
      "INFO:tensorflow:loss = 0.0431602, step = 501 (4.948 sec)\n",
      "INFO:tensorflow:global_step/sec: 20.3747\n",
      "INFO:tensorflow:loss = 0.0195989, step = 601 (4.908 sec)\n",
      "INFO:tensorflow:global_step/sec: 19.9634\n",
      "INFO:tensorflow:loss = 0.0303159, step = 701 (5.010 sec)\n",
      "INFO:tensorflow:global_step/sec: 19.736\n",
      "INFO:tensorflow:loss = 0.0272242, step = 801 (5.066 sec)\n",
      "INFO:tensorflow:global_step/sec: 20.0592\n",
      "INFO:tensorflow:loss = 0.0403909, step = 901 (4.985 sec)\n",
      "INFO:tensorflow:global_step/sec: 20.1187\n",
      "INFO:tensorflow:loss = 0.0440379, step = 1001 (4.971 sec)\n",
      "INFO:tensorflow:global_step/sec: 20.2397\n",
      "INFO:tensorflow:loss = 0.0123163, step = 1101 (4.940 sec)\n",
      "INFO:tensorflow:global_step/sec: 20.6693\n",
      "INFO:tensorflow:loss = 0.00667576, step = 1201 (4.838 sec)\n",
      "INFO:tensorflow:global_step/sec: 20.1386\n",
      "INFO:tensorflow:loss = 0.0153044, step = 1301 (4.966 sec)\n",
      "INFO:tensorflow:global_step/sec: 20.4273\n",
      "INFO:tensorflow:loss = 0.00925704, step = 1401 (4.895 sec)\n",
      "INFO:tensorflow:global_step/sec: 20.5303\n",
      "INFO:tensorflow:loss = 0.0330906, step = 1501 (4.871 sec)\n",
      "INFO:tensorflow:global_step/sec: 20.0187\n",
      "INFO:tensorflow:loss = 0.00803795, step = 1601 (4.995 sec)\n",
      "INFO:tensorflow:global_step/sec: 20.4794\n",
      "INFO:tensorflow:loss = 0.00247456, step = 1701 (4.883 sec)\n",
      "INFO:tensorflow:global_step/sec: 20.5902\n",
      "INFO:tensorflow:loss = 0.0159507, step = 1801 (4.857 sec)\n",
      "INFO:tensorflow:global_step/sec: 20.7306\n",
      "INFO:tensorflow:loss = 0.0060814, step = 1901 (4.824 sec)\n",
      "INFO:tensorflow:global_step/sec: 20.3762\n",
      "INFO:tensorflow:loss = 0.00616673, step = 2001 (4.907 sec)\n",
      "INFO:tensorflow:global_step/sec: 20.0469\n",
      "INFO:tensorflow:loss = 0.00564439, step = 2101 (4.988 sec)\n",
      "INFO:tensorflow:global_step/sec: 19.9298\n",
      "INFO:tensorflow:loss = 0.00241, step = 2201 (5.018 sec)\n",
      "INFO:tensorflow:global_step/sec: 19.9783\n",
      "INFO:tensorflow:loss = 0.0506705, step = 2301 (5.005 sec)\n",
      "INFO:tensorflow:global_step/sec: 20.5818\n",
      "INFO:tensorflow:loss = 0.0652925, step = 2401 (4.859 sec)\n",
      "INFO:tensorflow:global_step/sec: 20.6091\n",
      "INFO:tensorflow:loss = 0.0168135, step = 2501 (4.852 sec)\n",
      "INFO:tensorflow:global_step/sec: 20.5452\n",
      "INFO:tensorflow:loss = 0.015964, step = 2601 (4.867 sec)\n",
      "INFO:tensorflow:global_step/sec: 20.505\n",
      "INFO:tensorflow:loss = 0.0138037, step = 2701 (4.877 sec)\n",
      "INFO:tensorflow:global_step/sec: 19.9956\n",
      "INFO:tensorflow:loss = 0.0147426, step = 2801 (5.001 sec)\n",
      "INFO:tensorflow:global_step/sec: 20.4263\n",
      "INFO:tensorflow:loss = 0.000279117, step = 2901 (4.896 sec)\n",
      "INFO:tensorflow:Saving checkpoints for 3000 into /var/folders/6p/yqt9w6sx0330_s_nfp4gzzm40000gn/T/tmptqzro2lc/model.ckpt.\n",
      "INFO:tensorflow:Loss for final step: 0.0209277.\n"
     ]
    },
    {
     "data": {
      "text/plain": [
       "<tensorflow.python.estimator.estimator.Estimator at 0x11f8d7da0>"
      ]
     },
     "execution_count": 5,
     "metadata": {},
     "output_type": "execute_result"
    }
   ],
   "source": [
    "model = tf.estimator.Estimator(model_fn)\n",
    "input_fn = tf.estimator.inputs.numpy_input_fn(\n",
    "    x={'images': mnist.train.images}, y=mnist.train.labels,\n",
    "    batch_size=batch_size, num_epochs=None, shuffle=True)\n",
    "model.train(input_fn, steps=num_steps)"
   ]
  },
  {
   "cell_type": "markdown",
   "metadata": {},
   "source": [
    "# 4. Evaluate"
   ]
  },
  {
   "cell_type": "code",
   "execution_count": 6,
   "metadata": {},
   "outputs": [
    {
     "name": "stdout",
     "output_type": "stream",
     "text": [
      "INFO:tensorflow:Starting evaluation at 2018-07-07-12:47:45\n",
      "INFO:tensorflow:Restoring parameters from /var/folders/6p/yqt9w6sx0330_s_nfp4gzzm40000gn/T/tmptqzro2lc/model.ckpt-3000\n",
      "INFO:tensorflow:Finished evaluation at 2018-07-07-12:47:47\n",
      "INFO:tensorflow:Saving dict for global step 3000: accuracy = 0.989, global_step = 3000, loss = 0.0427498\n"
     ]
    },
    {
     "data": {
      "text/plain": [
       "{'accuracy': 0.98900002, 'global_step': 3000, 'loss': 0.042749815}"
      ]
     },
     "execution_count": 6,
     "metadata": {},
     "output_type": "execute_result"
    }
   ],
   "source": [
    "input_fn = tf.estimator.inputs.numpy_input_fn(\n",
    "    x={'images': mnist.test.images}, y=mnist.test.labels,\n",
    "    batch_size=batch_size, shuffle=False)\n",
    "model.evaluate(input_fn)"
   ]
  },
  {
   "cell_type": "code",
   "execution_count": 8,
   "metadata": {},
   "outputs": [
    {
     "name": "stdout",
     "output_type": "stream",
     "text": [
      "INFO:tensorflow:Restoring parameters from /var/folders/6p/yqt9w6sx0330_s_nfp4gzzm40000gn/T/tmptqzro2lc/model.ckpt-3000\n"
     ]
    },
    {
     "data": {
      "image/png": "[encoded data removed]",
      "text/plain": [
       "<matplotlib.figure.Figure at 0x1201dfac8>"
      ]
     },
     "metadata": {},
     "output_type": "display_data"
    },
    {
     "name": "stdout",
     "output_type": "stream",
     "text": [
      "Label:  4      Model prediction: 2\n"
     ]
    },
    {
     "data": {
      "image/png": "[encoded data removed]",
      "text/plain": [
       "<matplotlib.figure.Figure at 0x116cce6a0>"
      ]
     },
     "metadata": {},
     "output_type": "display_data"
    },
    {
     "name": "stdout",
     "output_type": "stream",
     "text": [
      "Label:  2      Model prediction: 7\n"
     ]
    },
    {
     "data": {
      "image/png": "[encoded data removed]",
      "text/plain": [
       "<matplotlib.figure.Figure at 0x116d7bef0>"
      ]
     },
     "metadata": {},
     "output_type": "display_data"
    },
    {
     "name": "stdout",
     "output_type": "stream",
     "text": [
      "Label:  5      Model prediction: 3\n"
     ]
    },
    {
     "data": {
      "image/png": "[encoded data removed]",
      "text/plain": [
       "<matplotlib.figure.Figure at 0x1170c0668>"
      ]
     },
     "metadata": {},
     "output_type": "display_data"
    },
    {
     "name": "stdout",
     "output_type": "stream",
     "text": [
      "Label:  8      Model prediction: 2\n"
     ]
    },
    {
     "data": {
      "image/png": "[encoded data removed]",
      "text/plain": [
       "<matplotlib.figure.Figure at 0x1219e4da0>"
      ]
     },
     "metadata": {},
     "output_type": "display_data"
    },
    {
     "name": "stdout",
     "output_type": "stream",
     "text": [
      "Label:  2      Model prediction: 1\n"
     ]
    }
   ],
   "source": [
    "import matplotlib.pyplot as plt\n",
    "import numpy as np\n",
    "\n",
    "input_fn = tf.estimator.inputs.numpy_input_fn(x={'images': mnist.test.images}, shuffle=False)\n",
    "preds = np.asarray(list(model.predict(input_fn)))\n",
    "error_pred = np.not_equal(preds, mnist.test.labels)\n",
    "error_images = mnist.test.images[error_pred]\n",
    "error_labels = mnist.test.labels[error_pred]\n",
    "error_p = preds[error_pred]\n",
    "\n",
    "for i in range(5):\n",
    "    plt.imshow(np.reshape(error_images[i], [28, 28]), cmap='gray')\n",
    "    plt.show()\n",
    "    print(\"Label: \", error_labels[i], \"     Model prediction:\", error_p[i])"
   ]
  }
 ],
 "metadata": {
  "kernelspec": {
   "display_name": "Python 3",
   "language": "python",
   "name": "python3"
  },
  "language_info": {
   "codemirror_mode": {
    "name": "ipython",
    "version": 3
   },
   "file_extension": ".py",
   "mimetype": "text/x-python",
   "name": "python",
   "nbconvert_exporter": "python",
   "pygments_lexer": "ipython3",
   "version": "3.6.4"
  }
 },
 "nbformat": 4,
 "nbformat_minor": 2
}
