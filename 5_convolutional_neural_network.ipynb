{
 "cells": [
  {
   "cell_type": "markdown",
   "metadata": {},
   "source": [
    "# 1. Problem"
   ]
  },
  {
   "cell_type": "code",
   "execution_count": 1,
   "metadata": {},
   "outputs": [
    {
     "name": "stdout",
     "output_type": "stream",
     "text": [
      "Extracting ./mnist_data/train-images-idx3-ubyte.gz\n",
      "Extracting ./mnist_data/train-labels-idx1-ubyte.gz\n",
      "Extracting ./mnist_data/t10k-images-idx3-ubyte.gz\n",
      "Extracting ./mnist_data/t10k-labels-idx1-ubyte.gz\n"
     ]
    }
   ],
   "source": [
    "import tensorflow as tf\n",
    "\n",
    "# Import MINST data\n",
    "from tensorflow.examples.tutorials.mnist import input_data\n",
    "mnist = input_data.read_data_sets(\"./mnist_data/\", one_hot=False)"
   ]
  },
  {
   "cell_type": "markdown",
   "metadata": {},
   "source": [
    "# 2. Convolutional Neural Network\n",
    "![](images/cnn.png)"
   ]
  },
  {
   "cell_type": "markdown",
   "metadata": {},
   "source": [
    "# 3. Train"
   ]
  },
  {
   "cell_type": "code",
   "execution_count": 47,
   "metadata": {},
   "outputs": [],
   "source": [
    "# Training Parameters\n",
    "learning_rate = 0.001\n",
    "num_steps = 3000\n",
    "batch_size = 128\n",
    "\n",
    "# Network Parameters\n",
    "num_input = 784         # MNIST data input (img shape: 28*28)\n",
    "num_classes = 10        # MNIST total classes (0-9 digits)\n",
    "dropout = 0.25          # Dropout, probability to drop a unit"
   ]
  },
  {
   "cell_type": "code",
   "execution_count": 48,
   "metadata": {},
   "outputs": [],
   "source": [
    "def conv_net(x_dict, n_classes, dropout, reuse, is_training):\n",
    "    with tf.variable_scope('ConvNet', reuse=reuse):\n",
    "        x = x_dict['images']\n",
    "        x = tf.reshape(x, shape=[-1, 28, 28, 1])\n",
    "\n",
    "        # Convolution Layer with 32 filters and a kernel size of 5\n",
    "        conv1 = tf.layers.conv2d(x, 32, 5, activation=tf.nn.relu)\n",
    "        # Max Pooling (down-sampling) with strides of 2 and kernel size of 2\n",
    "        conv1 = tf.layers.max_pooling2d(conv1, 2, 2)\n",
    "\n",
    "        # Convolution Layer with 64 filters and a kernel size of 5\n",
    "        conv2 = tf.layers.conv2d(conv1, 64, 5, activation=tf.nn.relu)\n",
    "        # Max Pooling (down-sampling) with strides of 2 and kernel size of 2\n",
    "        conv2 = tf.layers.max_pooling2d(conv2, 2, 2)\n",
    "\n",
    "        # Flatten the data to a 1-D vector for the fully connected layer\n",
    "        fc1 = tf.contrib.layers.flatten(conv2)\n",
    "\n",
    "        # Fully connected layer (in tf contrib folder for now)\n",
    "        fc1 = tf.layers.dense(fc1, 1024)\n",
    "        # Apply Dropout (if is_training is False, dropout is not applied)\n",
    "        fc1 = tf.layers.dropout(fc1, rate=dropout, training=is_training)\n",
    "\n",
    "        # Output layer, class prediction\n",
    "        out = tf.layers.dense(fc1, n_classes)\n",
    "        return out"
   ]
  },
  {
   "cell_type": "code",
   "execution_count": 49,
   "metadata": {},
   "outputs": [],
   "source": [
    "# Define the model function (following TF Estimator Template)\n",
    "def model_fn(features, labels, mode):\n",
    "    \n",
    "    # Build the neural network\n",
    "    # Because Dropout have different behavior at training and prediction time, we\n",
    "    # need to create 2 distinct computation graphs that still share the same weights.\n",
    "    logits_train = conv_net(features, num_classes, dropout, reuse=False, is_training=True)\n",
    "    logits_test = conv_net(features, num_classes, dropout, reuse=True, is_training=False)\n",
    "    \n",
    "    # Predictions\n",
    "    pred_classes = tf.argmax(logits_test, axis=1)\n",
    "    pred_probas = tf.nn.softmax(logits_test)\n",
    "    \n",
    "    # If prediction mode, early return\n",
    "    if mode == tf.estimator.ModeKeys.PREDICT:\n",
    "        return tf.estimator.EstimatorSpec(mode, predictions=pred_classes) \n",
    "        \n",
    "    # Define loss and optimizer\n",
    "    loss_op = tf.reduce_mean(tf.nn.sparse_softmax_cross_entropy_with_logits(\n",
    "        logits=logits_train, labels=tf.cast(labels, dtype=tf.int32)))\n",
    "    optimizer = tf.train.AdamOptimizer(learning_rate=learning_rate)\n",
    "    train_op = optimizer.minimize(loss_op, global_step=tf.train.get_global_step())\n",
    "    \n",
    "    # Evaluate the accuracy of the model\n",
    "    acc_op = tf.metrics.accuracy(labels=labels, predictions=pred_classes)\n",
    "\n",
    "    return tf.estimator.EstimatorSpec(mode=mode, predictions=pred_classes,\n",
    "      loss=loss_op, train_op=train_op, eval_metric_ops={'accuracy': acc_op})"
   ]
  },
  {
   "cell_type": "code",
   "execution_count": 50,
   "metadata": {},
   "outputs": [
    {
     "name": "stdout",
     "output_type": "stream",
     "text": [
      "INFO:tensorflow:Using default config.\n",
      "WARNING:tensorflow:Using temporary folder as model directory: /var/folders/6p/yqt9w6sx0330_s_nfp4gzzm40000gn/T/tmph64kefl2\n",
      "INFO:tensorflow:Using config: {'_model_dir': '/var/folders/6p/yqt9w6sx0330_s_nfp4gzzm40000gn/T/tmph64kefl2', '_tf_random_seed': None, '_save_summary_steps': 100, '_save_checkpoints_steps': None, '_save_checkpoints_secs': 600, '_session_config': None, '_keep_checkpoint_max': 5, '_keep_checkpoint_every_n_hours': 10000, '_log_step_count_steps': 100, '_service': None, '_cluster_spec': <tensorflow.python.training.server_lib.ClusterSpec object at 0x11af8a9b0>, '_task_type': 'worker', '_task_id': 0, '_master': '', '_is_chief': True, '_num_ps_replicas': 0, '_num_worker_replicas': 1}\n",
      "INFO:tensorflow:Create CheckpointSaverHook.\n",
      "INFO:tensorflow:Saving checkpoints for 1 into /var/folders/6p/yqt9w6sx0330_s_nfp4gzzm40000gn/T/tmph64kefl2/model.ckpt.\n",
      "INFO:tensorflow:loss = 2.30003, step = 1\n",
      "INFO:tensorflow:global_step/sec: 21.6235\n",
      "INFO:tensorflow:loss = 0.268374, step = 101 (4.625 sec)\n",
      "INFO:tensorflow:global_step/sec: 21.7132\n",
      "INFO:tensorflow:loss = 0.0686683, step = 201 (4.605 sec)\n",
      "INFO:tensorflow:global_step/sec: 22.0485\n",
      "INFO:tensorflow:loss = 0.0663051, step = 301 (4.536 sec)\n",
      "INFO:tensorflow:global_step/sec: 22.0077\n",
      "INFO:tensorflow:loss = 0.0146409, step = 401 (4.544 sec)\n",
      "INFO:tensorflow:global_step/sec: 22.3028\n",
      "INFO:tensorflow:loss = 0.0332479, step = 501 (4.484 sec)\n",
      "INFO:tensorflow:global_step/sec: 22.1762\n",
      "INFO:tensorflow:loss = 0.0387779, step = 601 (4.509 sec)\n",
      "INFO:tensorflow:global_step/sec: 21.5888\n",
      "INFO:tensorflow:loss = 0.0342057, step = 701 (4.632 sec)\n",
      "INFO:tensorflow:global_step/sec: 21.7752\n",
      "INFO:tensorflow:loss = 0.0375114, step = 801 (4.592 sec)\n",
      "INFO:tensorflow:global_step/sec: 21.4082\n",
      "INFO:tensorflow:loss = 0.0370088, step = 901 (4.671 sec)\n",
      "INFO:tensorflow:global_step/sec: 21.9542\n",
      "INFO:tensorflow:loss = 0.0267336, step = 1001 (4.555 sec)\n",
      "INFO:tensorflow:global_step/sec: 21.8461\n",
      "INFO:tensorflow:loss = 0.0148028, step = 1101 (4.577 sec)\n",
      "INFO:tensorflow:global_step/sec: 21.6905\n",
      "INFO:tensorflow:loss = 0.0207199, step = 1201 (4.611 sec)\n",
      "INFO:tensorflow:global_step/sec: 21.7311\n",
      "INFO:tensorflow:loss = 0.0202862, step = 1301 (4.601 sec)\n",
      "INFO:tensorflow:global_step/sec: 21.996\n",
      "INFO:tensorflow:loss = 0.00379127, step = 1401 (4.546 sec)\n",
      "INFO:tensorflow:global_step/sec: 21.9882\n",
      "INFO:tensorflow:loss = 0.0768969, step = 1501 (4.548 sec)\n",
      "INFO:tensorflow:global_step/sec: 21.8074\n",
      "INFO:tensorflow:loss = 0.0271295, step = 1601 (4.586 sec)\n",
      "INFO:tensorflow:global_step/sec: 21.6705\n",
      "INFO:tensorflow:loss = 0.00219332, step = 1701 (4.615 sec)\n",
      "INFO:tensorflow:global_step/sec: 21.702\n",
      "INFO:tensorflow:loss = 0.0531809, step = 1801 (4.607 sec)\n",
      "INFO:tensorflow:global_step/sec: 22.0806\n",
      "INFO:tensorflow:loss = 0.0304659, step = 1901 (4.529 sec)\n",
      "INFO:tensorflow:global_step/sec: 21.9241\n",
      "INFO:tensorflow:loss = 0.00930549, step = 2001 (4.562 sec)\n",
      "INFO:tensorflow:global_step/sec: 21.7005\n",
      "INFO:tensorflow:loss = 0.015998, step = 2101 (4.608 sec)\n",
      "INFO:tensorflow:global_step/sec: 21.6782\n",
      "INFO:tensorflow:loss = 0.0191919, step = 2201 (4.613 sec)\n",
      "INFO:tensorflow:global_step/sec: 22.1139\n",
      "INFO:tensorflow:loss = 0.0239591, step = 2301 (4.522 sec)\n",
      "INFO:tensorflow:global_step/sec: 22.282\n",
      "INFO:tensorflow:loss = 0.00191432, step = 2401 (4.488 sec)\n",
      "INFO:tensorflow:global_step/sec: 21.8965\n",
      "INFO:tensorflow:loss = 0.0122652, step = 2501 (4.567 sec)\n",
      "INFO:tensorflow:global_step/sec: 21.5899\n",
      "INFO:tensorflow:loss = 0.00485932, step = 2601 (4.632 sec)\n",
      "INFO:tensorflow:global_step/sec: 22.3503\n",
      "INFO:tensorflow:loss = 0.00613705, step = 2701 (4.474 sec)\n",
      "INFO:tensorflow:global_step/sec: 21.8916\n",
      "INFO:tensorflow:loss = 0.000497206, step = 2801 (4.568 sec)\n",
      "INFO:tensorflow:global_step/sec: 22.3455\n",
      "INFO:tensorflow:loss = 0.0030406, step = 2901 (4.475 sec)\n",
      "INFO:tensorflow:Saving checkpoints for 3000 into /var/folders/6p/yqt9w6sx0330_s_nfp4gzzm40000gn/T/tmph64kefl2/model.ckpt.\n",
      "INFO:tensorflow:Loss for final step: 0.0290235.\n"
     ]
    },
    {
     "data": {
      "text/plain": [
       "<tensorflow.python.estimator.estimator.Estimator at 0x11af8a240>"
      ]
     },
     "execution_count": 50,
     "metadata": {},
     "output_type": "execute_result"
    }
   ],
   "source": [
    "model = tf.estimator.Estimator(model_fn)\n",
    "input_fn = tf.estimator.inputs.numpy_input_fn(\n",
    "    x={'images': mnist.train.images}, y=mnist.train.labels,\n",
    "    batch_size=batch_size, num_epochs=None, shuffle=True)\n",
    "model.train(input_fn, steps=num_steps)"
   ]
  },
  {
   "cell_type": "markdown",
   "metadata": {},
   "source": [
    "# 4. Evaluate"
   ]
  },
  {
   "cell_type": "code",
   "execution_count": 51,
   "metadata": {},
   "outputs": [
    {
     "name": "stdout",
     "output_type": "stream",
     "text": [
      "INFO:tensorflow:Starting evaluation at 2018-07-07-03:48:53\n",
      "INFO:tensorflow:Restoring parameters from /var/folders/6p/yqt9w6sx0330_s_nfp4gzzm40000gn/T/tmph64kefl2/model.ckpt-3000\n",
      "INFO:tensorflow:Finished evaluation at 2018-07-07-03:48:54\n",
      "INFO:tensorflow:Saving dict for global step 3000: accuracy = 0.9922, global_step = 3000, loss = 0.0316926\n"
     ]
    },
    {
     "data": {
      "text/plain": [
       "{'accuracy': 0.99220002, 'global_step': 3000, 'loss': 0.03169262}"
      ]
     },
     "execution_count": 51,
     "metadata": {},
     "output_type": "execute_result"
    }
   ],
   "source": [
    "input_fn = tf.estimator.inputs.numpy_input_fn(\n",
    "    x={'images': mnist.test.images}, y=mnist.test.labels,\n",
    "    batch_size=batch_size, shuffle=False)\n",
    "model.evaluate(input_fn)"
   ]
  },
  {
   "cell_type": "code",
   "execution_count": 52,
   "metadata": {},
   "outputs": [
    {
     "name": "stdout",
     "output_type": "stream",
     "text": [
      "INFO:tensorflow:Restoring parameters from /var/folders/6p/yqt9w6sx0330_s_nfp4gzzm40000gn/T/tmph64kefl2/model.ckpt-3000\n"
     ]
    },
    {
     "data": {
      "image/png": "[encoded data removed]",
      "text/plain": [
       "<matplotlib.figure.Figure at 0x123d72f98>"
      ]
     },
     "metadata": {},
     "output_type": "display_data"
    },
    {
     "name": "stdout",
     "output_type": "stream",
     "text": [
      "Label:  2      Model prediction: 7\n"
     ]
    },
    {
     "data": {
      "image/png": "[encoded data removed]",
      "text/plain": [
       "<matplotlib.figure.Figure at 0x11a77db70>"
      ]
     },
     "metadata": {},
     "output_type": "display_data"
    },
    {
     "name": "stdout",
     "output_type": "stream",
     "text": [
      "Label:  8      Model prediction: 2\n"
     ]
    },
    {
     "data": {
      "image/png": "[encoded data removed]",
      "text/plain": [
       "<matplotlib.figure.Figure at 0x11abe6dd8>"
      ]
     },
     "metadata": {},
     "output_type": "display_data"
    },
    {
     "name": "stdout",
     "output_type": "stream",
     "text": [
      "Label:  8      Model prediction: 2\n"
     ]
    },
    {
     "data": {
      "image/png": "[encoded data removed]",
      "text/plain": [
       "<matplotlib.figure.Figure at 0x123f29dd8>"
      ]
     },
     "metadata": {},
     "output_type": "display_data"
    },
    {
     "name": "stdout",
     "output_type": "stream",
     "text": [
      "Label:  6      Model prediction: 4\n"
     ]
    },
    {
     "data": {
      "image/png": "[encoded data removed]",
      "text/plain": [
       "<matplotlib.figure.Figure at 0x10be598d0>"
      ]
     },
     "metadata": {},
     "output_type": "display_data"
    },
    {
     "name": "stdout",
     "output_type": "stream",
     "text": [
      "Label:  2      Model prediction: 1\n"
     ]
    }
   ],
   "source": [
    "import matplotlib.pyplot as plt\n",
    "import numpy as np\n",
    "\n",
    "input_fn = tf.estimator.inputs.numpy_input_fn(x={'images': mnist.test.images}, shuffle=False)\n",
    "preds = np.asarray(list(model.predict(input_fn)))\n",
    "error_pred = np.not_equal(preds, mnist.test.labels)\n",
    "error_images = mnist.test.images[error_pred]\n",
    "error_labels = mnist.test.labels[error_pred]\n",
    "error_p = preds[error_pred]\n",
    "\n",
    "for i in range(5):\n",
    "    plt.imshow(np.reshape(error_images[i], [28, 28]), cmap='gray')\n",
    "    plt.show()\n",
    "    print(\"Label: \", error_labels[i], \"     Model prediction:\", error_p[i])"
   ]
  }
 ],
 "metadata": {
  "kernelspec": {
   "display_name": "Python 3",
   "language": "python",
   "name": "python3"
  },
  "language_info": {
   "codemirror_mode": {
    "name": "ipython",
    "version": 3
   },
   "file_extension": ".py",
   "mimetype": "text/x-python",
   "name": "python",
   "nbconvert_exporter": "python",
   "pygments_lexer": "ipython3",
   "version": "3.6.4"
  }
 },
 "nbformat": 4,
 "nbformat_minor": 2
}
