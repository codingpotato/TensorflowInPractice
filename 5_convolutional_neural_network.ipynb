{
 "cells": [
  {
   "cell_type": "markdown",
   "metadata": {},
   "source": [
    "# 1. Problem"
   ]
  },
  {
   "cell_type": "code",
   "execution_count": 1,
   "metadata": {},
   "outputs": [
    {
     "name": "stdout",
     "output_type": "stream",
     "text": [
      "WARNING:tensorflow:From <ipython-input-1-c65c58a2baf8>:5: read_data_sets (from tensorflow.contrib.learn.python.learn.datasets.mnist) is deprecated and will be removed in a future version.\n",
      "Instructions for updating:\n",
      "Please use alternatives such as official/mnist/dataset.py from tensorflow/models.\n",
      "WARNING:tensorflow:From /Users/codingpotato/python3_env/lib/python3.6/site-packages/tensorflow/contrib/learn/python/learn/datasets/mnist.py:260: maybe_download (from tensorflow.contrib.learn.python.learn.datasets.base) is deprecated and will be removed in a future version.\n",
      "Instructions for updating:\n",
      "Please write your own downloading logic.\n",
      "WARNING:tensorflow:From /Users/codingpotato/python3_env/lib/python3.6/site-packages/tensorflow/contrib/learn/python/learn/datasets/base.py:252: _internal_retry.<locals>.wrap.<locals>.wrapped_fn (from tensorflow.contrib.learn.python.learn.datasets.base) is deprecated and will be removed in a future version.\n",
      "Instructions for updating:\n",
      "Please use urllib or similar directly.\n",
      "Successfully downloaded train-images-idx3-ubyte.gz 9912422 bytes.\n",
      "WARNING:tensorflow:From /Users/codingpotato/python3_env/lib/python3.6/site-packages/tensorflow/contrib/learn/python/learn/datasets/mnist.py:262: extract_images (from tensorflow.contrib.learn.python.learn.datasets.mnist) is deprecated and will be removed in a future version.\n",
      "Instructions for updating:\n",
      "Please use tf.data to implement this functionality.\n",
      "Extracting ./mnist_data/train-images-idx3-ubyte.gz\n",
      "Successfully downloaded train-labels-idx1-ubyte.gz 28881 bytes.\n",
      "WARNING:tensorflow:From /Users/codingpotato/python3_env/lib/python3.6/site-packages/tensorflow/contrib/learn/python/learn/datasets/mnist.py:267: extract_labels (from tensorflow.contrib.learn.python.learn.datasets.mnist) is deprecated and will be removed in a future version.\n",
      "Instructions for updating:\n",
      "Please use tf.data to implement this functionality.\n",
      "Extracting ./mnist_data/train-labels-idx1-ubyte.gz\n",
      "Successfully downloaded t10k-images-idx3-ubyte.gz 1648877 bytes.\n",
      "Extracting ./mnist_data/t10k-images-idx3-ubyte.gz\n",
      "Successfully downloaded t10k-labels-idx1-ubyte.gz 4542 bytes.\n",
      "Extracting ./mnist_data/t10k-labels-idx1-ubyte.gz\n",
      "WARNING:tensorflow:From /Users/codingpotato/python3_env/lib/python3.6/site-packages/tensorflow/contrib/learn/python/learn/datasets/mnist.py:290: DataSet.__init__ (from tensorflow.contrib.learn.python.learn.datasets.mnist) is deprecated and will be removed in a future version.\n",
      "Instructions for updating:\n",
      "Please use alternatives such as official/mnist/dataset.py from tensorflow/models.\n"
     ]
    }
   ],
   "source": [
    "import tensorflow as tf\n",
    "\n",
    "# Import MINST data\n",
    "from tensorflow.examples.tutorials.mnist import input_data\n",
    "mnist = input_data.read_data_sets(\"./mnist_data/\", one_hot=False)"
   ]
  },
  {
   "cell_type": "markdown",
   "metadata": {},
   "source": [
    "# 2. Convolutional Neural Network\n",
    "![](images/cnn.gif)\n",
    "![](images/cnn.png)\n",
    "![](images/convolution_result.jpg)"
   ]
  },
  {
   "cell_type": "markdown",
   "metadata": {},
   "source": [
    "# 3. Train"
   ]
  },
  {
   "cell_type": "code",
   "execution_count": 2,
   "metadata": {},
   "outputs": [],
   "source": [
    "# Training Parameters\n",
    "learning_rate = 0.001\n",
    "num_steps = 3000\n",
    "batch_size = 128\n",
    "\n",
    "# Network Parameters\n",
    "num_input = 784         # MNIST data input (img shape: 28*28)\n",
    "num_classes = 10        # MNIST total classes (0-9 digits)\n",
    "dropout = 0.25          # Dropout, probability to drop a unit"
   ]
  },
  {
   "cell_type": "code",
   "execution_count": 3,
   "metadata": {},
   "outputs": [],
   "source": [
    "def conv_net(x_dict, n_classes, dropout, reuse, is_training):\n",
    "    with tf.variable_scope('ConvNet', reuse=reuse):\n",
    "        x = x_dict['images']\n",
    "        x = tf.reshape(x, shape=[-1, 28, 28, 1])\n",
    "\n",
    "        # Convolution Layer with 32 filters and a kernel size of 5\n",
    "        conv1 = tf.layers.conv2d(x, 32, 5, activation=tf.nn.relu)\n",
    "        # Max Pooling (down-sampling) with strides of 2 and kernel size of 2\n",
    "        conv1 = tf.layers.max_pooling2d(conv1, 2, 2)\n",
    "\n",
    "        # Convolution Layer with 64 filters and a kernel size of 5\n",
    "        conv2 = tf.layers.conv2d(conv1, 64, 5, activation=tf.nn.relu)\n",
    "        # Max Pooling (down-sampling) with strides of 2 and kernel size of 2\n",
    "        conv2 = tf.layers.max_pooling2d(conv2, 2, 2)\n",
    "\n",
    "        # Flatten the data to a 1-D vector for the fully connected layer\n",
    "        fc1 = tf.contrib.layers.flatten(conv2)\n",
    "\n",
    "        # Fully connected layer (in tf contrib folder for now)\n",
    "        fc1 = tf.layers.dense(fc1, 1024)\n",
    "        # Apply Dropout (if is_training is False, dropout is not applied)\n",
    "        fc1 = tf.layers.dropout(fc1, rate=dropout, training=is_training)\n",
    "\n",
    "        # Output layer, class prediction\n",
    "        out = tf.layers.dense(fc1, n_classes)\n",
    "        return out"
   ]
  },
  {
   "cell_type": "code",
   "execution_count": 4,
   "metadata": {},
   "outputs": [],
   "source": [
    "# Define the model function (following TF Estimator Template)\n",
    "def model_fn(features, labels, mode):\n",
    "    \n",
    "    # Build the neural network\n",
    "    # Because Dropout have different behavior at training and prediction time, we\n",
    "    # need to create 2 distinct computation graphs that still share the same weights.\n",
    "    logits_train = conv_net(features, num_classes, dropout, reuse=False, is_training=True)\n",
    "    logits_test = conv_net(features, num_classes, dropout, reuse=True, is_training=False)\n",
    "    \n",
    "    # Predictions\n",
    "    pred_classes = tf.argmax(logits_test, axis=1)\n",
    "    pred_probas = tf.nn.softmax(logits_test)\n",
    "    \n",
    "    # If prediction mode, early return\n",
    "    if mode == tf.estimator.ModeKeys.PREDICT:\n",
    "        return tf.estimator.EstimatorSpec(mode, predictions=pred_classes) \n",
    "        \n",
    "    # Define loss and optimizer\n",
    "    loss_op = tf.reduce_mean(tf.nn.sparse_softmax_cross_entropy_with_logits(\n",
    "        logits=logits_train, labels=tf.cast(labels, dtype=tf.int32)))\n",
    "    optimizer = tf.train.AdamOptimizer(learning_rate=learning_rate)\n",
    "    train_op = optimizer.minimize(loss_op, global_step=tf.train.get_global_step())\n",
    "    \n",
    "    # Evaluate the accuracy of the model\n",
    "    acc_op = tf.metrics.accuracy(labels=labels, predictions=pred_classes)\n",
    "\n",
    "    return tf.estimator.EstimatorSpec(mode=mode, predictions=pred_classes,\n",
    "      loss=loss_op, train_op=train_op, eval_metric_ops={'accuracy': acc_op})"
   ]
  },
  {
   "cell_type": "code",
   "execution_count": 5,
   "metadata": {},
   "outputs": [
    {
     "name": "stdout",
     "output_type": "stream",
     "text": [
      "INFO:tensorflow:Using default config.\n",
      "WARNING:tensorflow:Using temporary folder as model directory: /var/folders/9b/2y3ljbrn7pj3vpxjxt6w4cqw0000gn/T/tmpp00xebu_\n",
      "INFO:tensorflow:Using config: {'_model_dir': '/var/folders/9b/2y3ljbrn7pj3vpxjxt6w4cqw0000gn/T/tmpp00xebu_', '_tf_random_seed': None, '_save_summary_steps': 100, '_save_checkpoints_steps': None, '_save_checkpoints_secs': 600, '_session_config': None, '_keep_checkpoint_max': 5, '_keep_checkpoint_every_n_hours': 10000, '_log_step_count_steps': 100, '_train_distribute': None, '_service': None, '_cluster_spec': <tensorflow.python.training.server_lib.ClusterSpec object at 0x1086ef128>, '_task_type': 'worker', '_task_id': 0, '_global_id_in_cluster': 0, '_master': '', '_evaluation_master': '', '_is_chief': True, '_num_ps_replicas': 0, '_num_worker_replicas': 1}\n",
      "INFO:tensorflow:Calling model_fn.\n",
      "INFO:tensorflow:Done calling model_fn.\n",
      "INFO:tensorflow:Create CheckpointSaverHook.\n",
      "INFO:tensorflow:Graph was finalized.\n",
      "INFO:tensorflow:Running local_init_op.\n",
      "INFO:tensorflow:Done running local_init_op.\n",
      "INFO:tensorflow:Saving checkpoints for 1 into /var/folders/9b/2y3ljbrn7pj3vpxjxt6w4cqw0000gn/T/tmpp00xebu_/model.ckpt.\n",
      "INFO:tensorflow:loss = 2.3059673, step = 1\n",
      "INFO:tensorflow:global_step/sec: 8.42691\n",
      "INFO:tensorflow:loss = 0.14091694, step = 101 (11.868 sec)\n",
      "INFO:tensorflow:global_step/sec: 7.59989\n",
      "INFO:tensorflow:loss = 0.11881466, step = 201 (13.158 sec)\n",
      "INFO:tensorflow:global_step/sec: 7.04025\n",
      "INFO:tensorflow:loss = 0.019474579, step = 301 (14.204 sec)\n",
      "INFO:tensorflow:global_step/sec: 9.42745\n",
      "INFO:tensorflow:loss = 0.017911516, step = 401 (10.607 sec)\n",
      "INFO:tensorflow:global_step/sec: 9.42774\n",
      "INFO:tensorflow:loss = 0.025614955, step = 501 (10.607 sec)\n",
      "INFO:tensorflow:global_step/sec: 10.1297\n",
      "INFO:tensorflow:loss = 0.04707627, step = 601 (9.872 sec)\n",
      "INFO:tensorflow:global_step/sec: 10.7227\n",
      "INFO:tensorflow:loss = 0.023564659, step = 701 (9.326 sec)\n",
      "INFO:tensorflow:global_step/sec: 10.6898\n",
      "INFO:tensorflow:loss = 0.011183267, step = 801 (9.355 sec)\n",
      "INFO:tensorflow:global_step/sec: 10.7051\n",
      "INFO:tensorflow:loss = 0.08473243, step = 901 (9.341 sec)\n",
      "INFO:tensorflow:global_step/sec: 10.6877\n",
      "INFO:tensorflow:loss = 0.0714352, step = 1001 (9.357 sec)\n",
      "INFO:tensorflow:global_step/sec: 10.6638\n",
      "INFO:tensorflow:loss = 0.0049330485, step = 1101 (9.378 sec)\n",
      "INFO:tensorflow:global_step/sec: 10.6971\n",
      "INFO:tensorflow:loss = 0.015194394, step = 1201 (9.349 sec)\n",
      "INFO:tensorflow:global_step/sec: 10.6864\n",
      "INFO:tensorflow:loss = 0.037347868, step = 1301 (9.357 sec)\n",
      "INFO:tensorflow:global_step/sec: 10.6905\n",
      "INFO:tensorflow:loss = 0.05105617, step = 1401 (9.354 sec)\n",
      "INFO:tensorflow:global_step/sec: 10.7277\n",
      "INFO:tensorflow:loss = 0.008405398, step = 1501 (9.322 sec)\n",
      "INFO:tensorflow:global_step/sec: 10.5679\n",
      "INFO:tensorflow:loss = 0.07054152, step = 1601 (9.463 sec)\n",
      "INFO:tensorflow:global_step/sec: 10.6702\n",
      "INFO:tensorflow:loss = 0.0068540573, step = 1701 (9.372 sec)\n",
      "INFO:tensorflow:global_step/sec: 10.7145\n",
      "INFO:tensorflow:loss = 0.02378915, step = 1801 (9.333 sec)\n",
      "INFO:tensorflow:global_step/sec: 10.6922\n",
      "INFO:tensorflow:loss = 0.022112167, step = 1901 (9.352 sec)\n",
      "INFO:tensorflow:global_step/sec: 10.6473\n",
      "INFO:tensorflow:loss = 0.0032097925, step = 2001 (9.392 sec)\n",
      "INFO:tensorflow:global_step/sec: 10.6761\n",
      "INFO:tensorflow:loss = 0.011453999, step = 2101 (9.367 sec)\n",
      "INFO:tensorflow:global_step/sec: 10.6901\n",
      "INFO:tensorflow:loss = 0.016107345, step = 2201 (9.354 sec)\n",
      "INFO:tensorflow:global_step/sec: 10.3732\n",
      "INFO:tensorflow:loss = 0.0025653043, step = 2301 (9.640 sec)\n",
      "INFO:tensorflow:global_step/sec: 9.87274\n",
      "INFO:tensorflow:loss = 0.02761504, step = 2401 (10.130 sec)\n",
      "INFO:tensorflow:global_step/sec: 10.5721\n",
      "INFO:tensorflow:loss = 0.01807417, step = 2501 (9.458 sec)\n",
      "INFO:tensorflow:global_step/sec: 10.6226\n",
      "INFO:tensorflow:loss = 0.0039851605, step = 2601 (9.414 sec)\n",
      "INFO:tensorflow:global_step/sec: 10.6857\n",
      "INFO:tensorflow:loss = 0.0011219324, step = 2701 (9.358 sec)\n",
      "INFO:tensorflow:global_step/sec: 10.5718\n",
      "INFO:tensorflow:loss = 0.01529141, step = 2801 (9.459 sec)\n",
      "INFO:tensorflow:global_step/sec: 10.1059\n",
      "INFO:tensorflow:loss = 0.00095623086, step = 2901 (9.895 sec)\n",
      "INFO:tensorflow:Saving checkpoints for 3000 into /var/folders/9b/2y3ljbrn7pj3vpxjxt6w4cqw0000gn/T/tmpp00xebu_/model.ckpt.\n",
      "INFO:tensorflow:Loss for final step: 0.0007510653.\n"
     ]
    },
    {
     "data": {
      "text/plain": [
       "<tensorflow.python.estimator.estimator.Estimator at 0x1086ef240>"
      ]
     },
     "execution_count": 5,
     "metadata": {},
     "output_type": "execute_result"
    }
   ],
   "source": [
    "model = tf.estimator.Estimator(model_fn)\n",
    "input_fn = tf.estimator.inputs.numpy_input_fn(\n",
    "    x={'images': mnist.train.images}, y=mnist.train.labels,\n",
    "    batch_size=batch_size, num_epochs=None, shuffle=True)\n",
    "model.train(input_fn, steps=num_steps)"
   ]
  },
  {
   "cell_type": "markdown",
   "metadata": {},
   "source": [
    "# 4. Evaluate"
   ]
  },
  {
   "cell_type": "code",
   "execution_count": 6,
   "metadata": {},
   "outputs": [
    {
     "name": "stdout",
     "output_type": "stream",
     "text": [
      "INFO:tensorflow:Calling model_fn.\n",
      "INFO:tensorflow:Done calling model_fn.\n",
      "INFO:tensorflow:Starting evaluation at 2018-07-07-07:44:01\n",
      "INFO:tensorflow:Graph was finalized.\n",
      "INFO:tensorflow:Restoring parameters from /var/folders/9b/2y3ljbrn7pj3vpxjxt6w4cqw0000gn/T/tmpp00xebu_/model.ckpt-3000\n",
      "INFO:tensorflow:Running local_init_op.\n",
      "INFO:tensorflow:Done running local_init_op.\n",
      "INFO:tensorflow:Finished evaluation at 2018-07-07-07:44:04\n",
      "INFO:tensorflow:Saving dict for global step 3000: accuracy = 0.9919, global_step = 3000, loss = 0.03294353\n"
     ]
    },
    {
     "data": {
      "text/plain": [
       "{'accuracy': 0.9919, 'loss': 0.03294353, 'global_step': 3000}"
      ]
     },
     "execution_count": 6,
     "metadata": {},
     "output_type": "execute_result"
    }
   ],
   "source": [
    "input_fn = tf.estimator.inputs.numpy_input_fn(\n",
    "    x={'images': mnist.test.images}, y=mnist.test.labels,\n",
    "    batch_size=batch_size, shuffle=False)\n",
    "model.evaluate(input_fn)"
   ]
  },
  {
   "cell_type": "code",
   "execution_count": 8,
   "metadata": {},
   "outputs": [
    {
     "name": "stdout",
     "output_type": "stream",
     "text": [
      "INFO:tensorflow:Calling model_fn.\n",
      "INFO:tensorflow:Done calling model_fn.\n",
      "INFO:tensorflow:Graph was finalized.\n",
      "INFO:tensorflow:Restoring parameters from /var/folders/9b/2y3ljbrn7pj3vpxjxt6w4cqw0000gn/T/tmpp00xebu_/model.ckpt-3000\n",
      "INFO:tensorflow:Running local_init_op.\n",
      "INFO:tensorflow:Done running local_init_op.\n"
     ]
    },
    {
     "data": {
      "image/png": "[encoded data removed]",
      "text/plain": [
       "<Figure size 432x288 with 1 Axes>"
      ]
     },
     "metadata": {},
     "output_type": "display_data"
    },
    {
     "name": "stdout",
     "output_type": "stream",
     "text": [
      "Label:  2      Model prediction: 7\n"
     ]
    },
    {
     "data": {
      "image/png": "[encoded data removed]",
      "text/plain": [
       "<Figure size 432x288 with 1 Axes>"
      ]
     },
     "metadata": {},
     "output_type": "display_data"
    },
    {
     "name": "stdout",
     "output_type": "stream",
     "text": [
      "Label:  6      Model prediction: 0\n"
     ]
    },
    {
     "data": {
      "image/png": "[encoded data removed]",
      "text/plain": [
       "<Figure size 432x288 with 1 Axes>"
      ]
     },
     "metadata": {},
     "output_type": "display_data"
    },
    {
     "name": "stdout",
     "output_type": "stream",
     "text": [
      "Label:  3      Model prediction: 5\n"
     ]
    },
    {
     "data": {
      "image/png": "[encoded data removed]",
      "text/plain": [
       "<Figure size 432x288 with 1 Axes>"
      ]
     },
     "metadata": {},
     "output_type": "display_data"
    },
    {
     "name": "stdout",
     "output_type": "stream",
     "text": [
      "Label:  6      Model prediction: 4\n"
     ]
    },
    {
     "data": {
      "image/png": "[encoded data removed]",
      "text/plain": [
       "<Figure size 432x288 with 1 Axes>"
      ]
     },
     "metadata": {},
     "output_type": "display_data"
    },
    {
     "name": "stdout",
     "output_type": "stream",
     "text": [
      "Label:  2      Model prediction: 1\n"
     ]
    }
   ],
   "source": [
    "import matplotlib.pyplot as plt\n",
    "import numpy as np\n",
    "\n",
    "input_fn = tf.estimator.inputs.numpy_input_fn(x={'images': mnist.test.images}, shuffle=False)\n",
    "preds = np.asarray(list(model.predict(input_fn)))\n",
    "error_pred = np.not_equal(preds, mnist.test.labels)\n",
    "error_images = mnist.test.images[error_pred]\n",
    "error_labels = mnist.test.labels[error_pred]\n",
    "error_p = preds[error_pred]\n",
    "\n",
    "for i in range(5):\n",
    "    plt.imshow(np.reshape(error_images[i], [28, 28]), cmap='gray')\n",
    "    plt.show()\n",
    "    print(\"Label: \", error_labels[i], \"     Model prediction:\", error_p[i])"
   ]
  }
 ],
 "metadata": {
  "kernelspec": {
   "display_name": "Python 3",
   "language": "python",
   "name": "python3"
  },
  "language_info": {
   "codemirror_mode": {
    "name": "ipython",
    "version": 3
   },
   "file_extension": ".py",
   "mimetype": "text/x-python",
   "name": "python",
   "nbconvert_exporter": "python",
   "pygments_lexer": "ipython3",
   "version": "3.6.5"
  }
 },
 "nbformat": 4,
 "nbformat_minor": 2
}
