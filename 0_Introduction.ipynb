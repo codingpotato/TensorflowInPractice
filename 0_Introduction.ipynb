{
 "cells": [
  {
   "cell_type": "markdown",
   "metadata": {},
   "source": [
    "# Introduction"
   ]
  },
  {
   "cell_type": "markdown",
   "metadata": {},
   "source": [
    "## 1. Definition\n",
    "**Machine learning** is a subset of artificial intelligence in the field of computer science that often uses statistical techniques to give computers the ability to \"learn\" (i.e., progressively improve performance on a specific task) with data, without being explicitly programmed.\n",
    "![](images/PH_system_components.png)"
   ]
  },
  {
   "cell_type": "markdown",
   "metadata": {},
   "source": [
    "## 2. Environment Setup\n",
    "- python3 (64bit on Windows)\n",
    "> https://www.python.org/downloads/\n",
    "- Jupyter notebook\n",
    "```\n",
    "pip install jupyter\n",
    "```\n",
    "- Tensorflow, numpy\n",
    "```\n",
    "pip install tensorflow\n",
    "```\n",
    "- Matplotlib\n",
    "```\n",
    "pip install matplotlib\n",
    "```"
   ]
  }
 ],
 "metadata": {
  "kernelspec": {
   "display_name": "Python 3",
   "language": "python",
   "name": "python3"
  },
  "language_info": {
   "codemirror_mode": {
    "name": "ipython",
    "version": 3
   },
   "file_extension": ".py",
   "mimetype": "text/x-python",
   "name": "python",
   "nbconvert_exporter": "python",
   "pygments_lexer": "ipython3",
   "version": "3.6.5"
  }
 },
 "nbformat": 4,
 "nbformat_minor": 2
}
