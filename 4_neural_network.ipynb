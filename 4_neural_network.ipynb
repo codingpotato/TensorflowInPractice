{
 "cells": [
  {
   "cell_type": "markdown",
   "metadata": {},
   "source": [
    "# 1. Problem"
   ]
  },
  {
   "cell_type": "code",
   "execution_count": 1,
   "metadata": {},
   "outputs": [
    {
     "name": "stdout",
     "output_type": "stream",
     "text": [
      "WARNING:tensorflow:From <ipython-input-1-c65c58a2baf8>:5: read_data_sets (from tensorflow.contrib.learn.python.learn.datasets.mnist) is deprecated and will be removed in a future version.\n",
      "Instructions for updating:\n",
      "Please use alternatives such as official/mnist/dataset.py from tensorflow/models.\n",
      "WARNING:tensorflow:From /Users/codingpotato/python3_env/lib/python3.6/site-packages/tensorflow/contrib/learn/python/learn/datasets/mnist.py:260: maybe_download (from tensorflow.contrib.learn.python.learn.datasets.base) is deprecated and will be removed in a future version.\n",
      "Instructions for updating:\n",
      "Please write your own downloading logic.\n",
      "WARNING:tensorflow:From /Users/codingpotato/python3_env/lib/python3.6/site-packages/tensorflow/contrib/learn/python/learn/datasets/mnist.py:262: extract_images (from tensorflow.contrib.learn.python.learn.datasets.mnist) is deprecated and will be removed in a future version.\n",
      "Instructions for updating:\n",
      "Please use tf.data to implement this functionality.\n",
      "Extracting ./mnist_data/train-images-idx3-ubyte.gz\n",
      "WARNING:tensorflow:From /Users/codingpotato/python3_env/lib/python3.6/site-packages/tensorflow/contrib/learn/python/learn/datasets/mnist.py:267: extract_labels (from tensorflow.contrib.learn.python.learn.datasets.mnist) is deprecated and will be removed in a future version.\n",
      "Instructions for updating:\n",
      "Please use tf.data to implement this functionality.\n",
      "Extracting ./mnist_data/train-labels-idx1-ubyte.gz\n",
      "Extracting ./mnist_data/t10k-images-idx3-ubyte.gz\n",
      "Extracting ./mnist_data/t10k-labels-idx1-ubyte.gz\n",
      "WARNING:tensorflow:From /Users/codingpotato/python3_env/lib/python3.6/site-packages/tensorflow/contrib/learn/python/learn/datasets/mnist.py:290: DataSet.__init__ (from tensorflow.contrib.learn.python.learn.datasets.mnist) is deprecated and will be removed in a future version.\n",
      "Instructions for updating:\n",
      "Please use alternatives such as official/mnist/dataset.py from tensorflow/models.\n"
     ]
    }
   ],
   "source": [
    "import tensorflow as tf\n",
    "\n",
    "# Import MINST data\n",
    "from tensorflow.examples.tutorials.mnist import input_data\n",
    "mnist = input_data.read_data_sets(\"./mnist_data/\", one_hot=False)"
   ]
  },
  {
   "cell_type": "markdown",
   "metadata": {},
   "source": [
    "# 2. Neural Network\n",
    "![](images/neural_network.jpeg)"
   ]
  },
  {
   "cell_type": "markdown",
   "metadata": {},
   "source": [
    "# 3. Train"
   ]
  },
  {
   "cell_type": "code",
   "execution_count": 2,
   "metadata": {},
   "outputs": [],
   "source": [
    "# Parameters\n",
    "learning_rate = 0.1\n",
    "num_steps = 3000\n",
    "batch_size = 128\n",
    "display_step = 100\n",
    "\n",
    "# Network Parameters\n",
    "n_hidden_1 = 256          # 1st layer number of neurons\n",
    "n_hidden_2 = 256          # 2nd layer number of neurons\n",
    "num_input = 784           # MNIST data input (img shape: 28*28)\n",
    "num_classes = 10          # MNIST total classes (0-9 digits)\n",
    "\n",
    "# Define the input function for training\n"
   ]
  },
  {
   "cell_type": "code",
   "execution_count": 3,
   "metadata": {},
   "outputs": [],
   "source": [
    "# Define the model function (following TF Estimator Template)\n",
    "def model_fn(features, labels, mode):\n",
    "    x = features['images']\n",
    "    layer_1 = tf.layers.dense(x, n_hidden_1)\n",
    "    layer_2 = tf.layers.dense(layer_1, n_hidden_2)\n",
    "    logits = tf.layers.dense(layer_2, num_classes)\n",
    "\n",
    "    pred_classes = tf.argmax(logits, axis=1)\n",
    "    pred_probas = tf.nn.softmax(logits)\n",
    "    \n",
    "    if mode == tf.estimator.ModeKeys.PREDICT:\n",
    "        return tf.estimator.EstimatorSpec(mode, predictions=pred_classes) \n",
    "        \n",
    "    loss_op = tf.reduce_mean(tf.nn.sparse_softmax_cross_entropy_with_logits(\n",
    "        logits=logits, labels=tf.cast(labels, dtype=tf.int32)))\n",
    "    optimizer = tf.train.GradientDescentOptimizer(learning_rate=learning_rate)\n",
    "    train_op = optimizer.minimize(loss_op, global_step=tf.train.get_global_step())\n",
    "    \n",
    "    # Evaluate the accuracy of the model\n",
    "    acc_op = tf.metrics.accuracy(labels=labels, predictions=pred_classes)\n",
    "    \n",
    "    # TF Estimators requires to return a EstimatorSpec, that specify\n",
    "    # the different ops for training, evaluating, ...\n",
    "    return tf.estimator.EstimatorSpec(\n",
    "        mode=mode, predictions=pred_classes, loss=loss_op, \n",
    "        train_op=train_op, eval_metric_ops={'accuracy': acc_op})"
   ]
  },
  {
   "cell_type": "code",
   "execution_count": 4,
   "metadata": {},
   "outputs": [
    {
     "name": "stdout",
     "output_type": "stream",
     "text": [
      "INFO:tensorflow:Using default config.\n",
      "WARNING:tensorflow:Using temporary folder as model directory: /var/folders/9b/2y3ljbrn7pj3vpxjxt6w4cqw0000gn/T/tmpeituymgp\n",
      "INFO:tensorflow:Using config: {'_model_dir': '/var/folders/9b/2y3ljbrn7pj3vpxjxt6w4cqw0000gn/T/tmpeituymgp', '_tf_random_seed': None, '_save_summary_steps': 100, '_save_checkpoints_steps': None, '_save_checkpoints_secs': 600, '_session_config': None, '_keep_checkpoint_max': 5, '_keep_checkpoint_every_n_hours': 10000, '_log_step_count_steps': 100, '_train_distribute': None, '_service': None, '_cluster_spec': <tensorflow.python.training.server_lib.ClusterSpec object at 0x117a35b70>, '_task_type': 'worker', '_task_id': 0, '_global_id_in_cluster': 0, '_master': '', '_evaluation_master': '', '_is_chief': True, '_num_ps_replicas': 0, '_num_worker_replicas': 1}\n",
      "INFO:tensorflow:Calling model_fn.\n",
      "INFO:tensorflow:Done calling model_fn.\n",
      "INFO:tensorflow:Create CheckpointSaverHook.\n",
      "INFO:tensorflow:Graph was finalized.\n",
      "INFO:tensorflow:Running local_init_op.\n",
      "INFO:tensorflow:Done running local_init_op.\n",
      "INFO:tensorflow:Saving checkpoints for 1 into /var/folders/9b/2y3ljbrn7pj3vpxjxt6w4cqw0000gn/T/tmpeituymgp/model.ckpt.\n",
      "INFO:tensorflow:loss = 2.375446, step = 1\n",
      "INFO:tensorflow:global_step/sec: 154.883\n",
      "INFO:tensorflow:loss = 0.43183005, step = 101 (0.648 sec)\n",
      "INFO:tensorflow:global_step/sec: 159.942\n",
      "INFO:tensorflow:loss = 0.19862865, step = 201 (0.625 sec)\n",
      "INFO:tensorflow:global_step/sec: 152.839\n",
      "INFO:tensorflow:loss = 0.2997744, step = 301 (0.654 sec)\n",
      "INFO:tensorflow:global_step/sec: 156.909\n",
      "INFO:tensorflow:loss = 0.28928518, step = 401 (0.639 sec)\n",
      "INFO:tensorflow:global_step/sec: 154.801\n",
      "INFO:tensorflow:loss = 0.33242774, step = 501 (0.645 sec)\n",
      "INFO:tensorflow:global_step/sec: 161.916\n",
      "INFO:tensorflow:loss = 0.26687974, step = 601 (0.619 sec)\n",
      "INFO:tensorflow:global_step/sec: 160.255\n",
      "INFO:tensorflow:loss = 0.43504786, step = 701 (0.624 sec)\n",
      "INFO:tensorflow:global_step/sec: 157.71\n",
      "INFO:tensorflow:loss = 0.23659122, step = 801 (0.633 sec)\n",
      "INFO:tensorflow:global_step/sec: 160.023\n",
      "INFO:tensorflow:loss = 0.37500513, step = 901 (0.626 sec)\n",
      "INFO:tensorflow:global_step/sec: 160.575\n",
      "INFO:tensorflow:loss = 0.3700809, step = 1001 (0.623 sec)\n",
      "INFO:tensorflow:global_step/sec: 158.762\n",
      "INFO:tensorflow:loss = 0.24021545, step = 1101 (0.630 sec)\n",
      "INFO:tensorflow:global_step/sec: 160.489\n",
      "INFO:tensorflow:loss = 0.22794756, step = 1201 (0.623 sec)\n",
      "INFO:tensorflow:global_step/sec: 157.276\n",
      "INFO:tensorflow:loss = 0.23032337, step = 1301 (0.636 sec)\n",
      "INFO:tensorflow:global_step/sec: 163.752\n",
      "INFO:tensorflow:loss = 0.3805655, step = 1401 (0.610 sec)\n",
      "INFO:tensorflow:global_step/sec: 161.461\n",
      "INFO:tensorflow:loss = 0.28220913, step = 1501 (0.619 sec)\n",
      "INFO:tensorflow:global_step/sec: 165.411\n",
      "INFO:tensorflow:loss = 0.22102314, step = 1601 (0.605 sec)\n",
      "INFO:tensorflow:global_step/sec: 157.52\n",
      "INFO:tensorflow:loss = 0.37377113, step = 1701 (0.637 sec)\n",
      "INFO:tensorflow:global_step/sec: 160.62\n",
      "INFO:tensorflow:loss = 0.28048813, step = 1801 (0.621 sec)\n",
      "INFO:tensorflow:global_step/sec: 158.956\n",
      "INFO:tensorflow:loss = 0.29820064, step = 1901 (0.629 sec)\n",
      "INFO:tensorflow:global_step/sec: 170.303\n",
      "INFO:tensorflow:loss = 0.57080084, step = 2001 (0.588 sec)\n",
      "INFO:tensorflow:global_step/sec: 169.933\n",
      "INFO:tensorflow:loss = 0.28161108, step = 2101 (0.588 sec)\n",
      "INFO:tensorflow:global_step/sec: 160.09\n",
      "INFO:tensorflow:loss = 0.24782993, step = 2201 (0.624 sec)\n",
      "INFO:tensorflow:global_step/sec: 161.184\n",
      "INFO:tensorflow:loss = 0.20218608, step = 2301 (0.621 sec)\n",
      "INFO:tensorflow:global_step/sec: 160.588\n",
      "INFO:tensorflow:loss = 0.2109523, step = 2401 (0.623 sec)\n",
      "INFO:tensorflow:global_step/sec: 166.073\n",
      "INFO:tensorflow:loss = 0.31441018, step = 2501 (0.602 sec)\n",
      "INFO:tensorflow:global_step/sec: 162.478\n",
      "INFO:tensorflow:loss = 0.13620621, step = 2601 (0.615 sec)\n",
      "INFO:tensorflow:global_step/sec: 163.17\n",
      "INFO:tensorflow:loss = 0.23653424, step = 2701 (0.613 sec)\n",
      "INFO:tensorflow:global_step/sec: 162.986\n",
      "INFO:tensorflow:loss = 0.26162666, step = 2801 (0.613 sec)\n",
      "INFO:tensorflow:global_step/sec: 162.151\n",
      "INFO:tensorflow:loss = 0.25985694, step = 2901 (0.617 sec)\n",
      "INFO:tensorflow:Saving checkpoints for 3000 into /var/folders/9b/2y3ljbrn7pj3vpxjxt6w4cqw0000gn/T/tmpeituymgp/model.ckpt.\n",
      "INFO:tensorflow:Loss for final step: 0.16191998.\n"
     ]
    },
    {
     "data": {
      "text/plain": [
       "<tensorflow.python.estimator.estimator.Estimator at 0x117a35cc0>"
      ]
     },
     "execution_count": 4,
     "metadata": {},
     "output_type": "execute_result"
    }
   ],
   "source": [
    "model = tf.estimator.Estimator(model_fn)\n",
    "input_fn = tf.estimator.inputs.numpy_input_fn(\n",
    "    x={'images': mnist.train.images}, y=mnist.train.labels,\n",
    "    batch_size=batch_size, num_epochs=None, shuffle=True)\n",
    "model.train(input_fn, steps=num_steps)"
   ]
  },
  {
   "cell_type": "markdown",
   "metadata": {},
   "source": [
    "# 4. Evaluate"
   ]
  },
  {
   "cell_type": "code",
   "execution_count": 5,
   "metadata": {},
   "outputs": [
    {
     "name": "stdout",
     "output_type": "stream",
     "text": [
      "INFO:tensorflow:Calling model_fn.\n",
      "INFO:tensorflow:Done calling model_fn.\n",
      "INFO:tensorflow:Starting evaluation at 2018-07-07-07:39:41\n",
      "INFO:tensorflow:Graph was finalized.\n",
      "INFO:tensorflow:Restoring parameters from /var/folders/9b/2y3ljbrn7pj3vpxjxt6w4cqw0000gn/T/tmpeituymgp/model.ckpt-3000\n",
      "INFO:tensorflow:Running local_init_op.\n",
      "INFO:tensorflow:Done running local_init_op.\n",
      "INFO:tensorflow:Finished evaluation at 2018-07-07-07:39:42\n",
      "INFO:tensorflow:Saving dict for global step 3000: accuracy = 0.9203, global_step = 3000, loss = 0.28543237\n"
     ]
    },
    {
     "data": {
      "text/plain": [
       "{'accuracy': 0.9203, 'loss': 0.28543237, 'global_step': 3000}"
      ]
     },
     "execution_count": 5,
     "metadata": {},
     "output_type": "execute_result"
    }
   ],
   "source": [
    "input_fn = tf.estimator.inputs.numpy_input_fn(\n",
    "    x={'images': mnist.test.images}, y=mnist.test.labels,\n",
    "    batch_size=batch_size, shuffle=False)\n",
    "model.evaluate(input_fn)"
   ]
  },
  {
   "cell_type": "code",
   "execution_count": 7,
   "metadata": {},
   "outputs": [
    {
     "name": "stdout",
     "output_type": "stream",
     "text": [
      "INFO:tensorflow:Calling model_fn.\n",
      "INFO:tensorflow:Done calling model_fn.\n",
      "INFO:tensorflow:Graph was finalized.\n",
      "INFO:tensorflow:Restoring parameters from /var/folders/9b/2y3ljbrn7pj3vpxjxt6w4cqw0000gn/T/tmpeituymgp/model.ckpt-3000\n",
      "INFO:tensorflow:Running local_init_op.\n",
      "INFO:tensorflow:Done running local_init_op.\n"
     ]
    },
    {
     "data": {
      "image/png": "[encoded data removed]",
      "text/plain": [
       "<Figure size 432x288 with 1 Axes>"
      ]
     },
     "metadata": {},
     "output_type": "display_data"
    },
    {
     "name": "stdout",
     "output_type": "stream",
     "text": [
      "Label:  5      Model prediction: 6\n"
     ]
    },
    {
     "data": {
      "image/png": "[encoded data removed]",
      "text/plain": [
       "<Figure size 432x288 with 1 Axes>"
      ]
     },
     "metadata": {},
     "output_type": "display_data"
    },
    {
     "name": "stdout",
     "output_type": "stream",
     "text": [
      "Label:  4      Model prediction: 6\n"
     ]
    },
    {
     "data": {
      "image/png": "[encoded data removed]",
      "text/plain": [
       "<Figure size 432x288 with 1 Axes>"
      ]
     },
     "metadata": {},
     "output_type": "display_data"
    },
    {
     "name": "stdout",
     "output_type": "stream",
     "text": [
      "Label:  3      Model prediction: 2\n"
     ]
    },
    {
     "data": {
      "image/png": "[encoded data removed]",
      "text/plain": [
       "<Figure size 432x288 with 1 Axes>"
      ]
     },
     "metadata": {},
     "output_type": "display_data"
    },
    {
     "name": "stdout",
     "output_type": "stream",
     "text": [
      "Label:  9      Model prediction: 4\n"
     ]
    },
    {
     "data": {
      "image/png": "[encoded data removed]",
      "text/plain": [
       "<Figure size 432x288 with 1 Axes>"
      ]
     },
     "metadata": {},
     "output_type": "display_data"
    },
    {
     "name": "stdout",
     "output_type": "stream",
     "text": [
      "Label:  2      Model prediction: 9\n"
     ]
    }
   ],
   "source": [
    "import matplotlib.pyplot as plt\n",
    "import numpy as np\n",
    "\n",
    "input_fn = tf.estimator.inputs.numpy_input_fn(x={'images': mnist.test.images}, shuffle=False)\n",
    "preds = np.asarray(list(model.predict(input_fn)))\n",
    "error_pred = np.not_equal(preds, mnist.test.labels)\n",
    "error_images = mnist.test.images[error_pred]\n",
    "error_labels = mnist.test.labels[error_pred]\n",
    "error_p = preds[error_pred]\n",
    "\n",
    "for i in range(5):\n",
    "    plt.imshow(np.reshape(error_images[i], [28, 28]), cmap='gray')\n",
    "    plt.show()\n",
    "    print(\"Label: \", error_labels[i], \"     Model prediction:\", error_p[i])"
   ]
  }
 ],
 "metadata": {
  "kernelspec": {
   "display_name": "Python 3",
   "language": "python",
   "name": "python3"
  },
  "language_info": {
   "codemirror_mode": {
    "name": "ipython",
    "version": 3
   },
   "file_extension": ".py",
   "mimetype": "text/x-python",
   "name": "python",
   "nbconvert_exporter": "python",
   "pygments_lexer": "ipython3",
   "version": "3.6.5"
  }
 },
 "nbformat": 4,
 "nbformat_minor": 2
}
