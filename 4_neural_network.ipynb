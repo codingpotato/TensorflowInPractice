{
 "cells": [
  {
   "cell_type": "markdown",
   "metadata": {},
   "source": [
    "# 1. Problem"
   ]
  },
  {
   "cell_type": "code",
   "execution_count": 1,
   "metadata": {},
   "outputs": [
    {
     "name": "stdout",
     "output_type": "stream",
     "text": [
      "Extracting ./mnist_data/train-images-idx3-ubyte.gz\n",
      "Extracting ./mnist_data/train-labels-idx1-ubyte.gz\n",
      "Extracting ./mnist_data/t10k-images-idx3-ubyte.gz\n",
      "Extracting ./mnist_data/t10k-labels-idx1-ubyte.gz\n"
     ]
    }
   ],
   "source": [
    "import tensorflow as tf\n",
    "\n",
    "# Import MINST data\n",
    "from tensorflow.examples.tutorials.mnist import input_data\n",
    "mnist = input_data.read_data_sets(\"./mnist_data/\", one_hot=False)"
   ]
  },
  {
   "cell_type": "markdown",
   "metadata": {},
   "source": [
    "# 2. Neural Network\n",
    "![](images/neural_network.jpeg)"
   ]
  },
  {
   "cell_type": "markdown",
   "metadata": {},
   "source": [
    "# 3. Train"
   ]
  },
  {
   "cell_type": "code",
   "execution_count": 2,
   "metadata": {},
   "outputs": [],
   "source": [
    "# Parameters\n",
    "learning_rate = 0.1\n",
    "num_steps = 2000\n",
    "batch_size = 128\n",
    "display_step = 100\n",
    "\n",
    "# Network Parameters\n",
    "n_hidden_1 = 256          # 1st layer number of neurons\n",
    "n_hidden_2 = 256          # 2nd layer number of neurons\n",
    "num_input = 784           # MNIST data input (img shape: 28*28)\n",
    "num_classes = 10          # MNIST total classes (0-9 digits)\n",
    "\n",
    "# Define the input function for training\n"
   ]
  },
  {
   "cell_type": "code",
   "execution_count": 3,
   "metadata": {},
   "outputs": [],
   "source": [
    "# Define the model function (following TF Estimator Template)\n",
    "def model_fn(features, labels, mode):\n",
    "    x = features['images']\n",
    "    layer_1 = tf.layers.dense(x, n_hidden_1)\n",
    "    layer_2 = tf.layers.dense(layer_1, n_hidden_2)\n",
    "    logits = tf.layers.dense(layer_2, num_classes)\n",
    "\n",
    "    pred_classes = tf.argmax(logits, axis=1)\n",
    "    pred_probas = tf.nn.softmax(logits)\n",
    "    \n",
    "    if mode == tf.estimator.ModeKeys.PREDICT:\n",
    "        return tf.estimator.EstimatorSpec(mode, predictions=pred_classes) \n",
    "        \n",
    "    loss_op = tf.reduce_mean(tf.nn.sparse_softmax_cross_entropy_with_logits(\n",
    "        logits=logits, labels=tf.cast(labels, dtype=tf.int32)))\n",
    "    optimizer = tf.train.GradientDescentOptimizer(learning_rate=learning_rate)\n",
    "    train_op = optimizer.minimize(loss_op, global_step=tf.train.get_global_step())\n",
    "    \n",
    "    # Evaluate the accuracy of the model\n",
    "    acc_op = tf.metrics.accuracy(labels=labels, predictions=pred_classes)\n",
    "    \n",
    "    # TF Estimators requires to return a EstimatorSpec, that specify\n",
    "    # the different ops for training, evaluating, ...\n",
    "    return tf.estimator.EstimatorSpec(\n",
    "        mode=mode, predictions=pred_classes, loss=loss_op, \n",
    "        train_op=train_op, eval_metric_ops={'accuracy': acc_op})"
   ]
  },
  {
   "cell_type": "code",
   "execution_count": 4,
   "metadata": {},
   "outputs": [
    {
     "name": "stdout",
     "output_type": "stream",
     "text": [
      "INFO:tensorflow:Using default config.\n",
      "WARNING:tensorflow:Using temporary folder as model directory: /var/folders/6p/yqt9w6sx0330_s_nfp4gzzm40000gn/T/tmp42i8jpz4\n",
      "INFO:tensorflow:Using config: {'_model_dir': '/var/folders/6p/yqt9w6sx0330_s_nfp4gzzm40000gn/T/tmp42i8jpz4', '_tf_random_seed': None, '_save_summary_steps': 100, '_save_checkpoints_steps': None, '_save_checkpoints_secs': 600, '_session_config': None, '_keep_checkpoint_max': 5, '_keep_checkpoint_every_n_hours': 10000, '_log_step_count_steps': 100, '_service': None, '_cluster_spec': <tensorflow.python.training.server_lib.ClusterSpec object at 0x119d5db70>, '_task_type': 'worker', '_task_id': 0, '_master': '', '_is_chief': True, '_num_ps_replicas': 0, '_num_worker_replicas': 1}\n",
      "INFO:tensorflow:Create CheckpointSaverHook.\n",
      "INFO:tensorflow:Saving checkpoints for 1 into /var/folders/6p/yqt9w6sx0330_s_nfp4gzzm40000gn/T/tmp42i8jpz4/model.ckpt.\n",
      "INFO:tensorflow:loss = 2.65213, step = 1\n",
      "INFO:tensorflow:global_step/sec: 309.021\n",
      "INFO:tensorflow:loss = 0.641271, step = 101 (0.325 sec)\n",
      "INFO:tensorflow:global_step/sec: 302.074\n",
      "INFO:tensorflow:loss = 0.262502, step = 201 (0.331 sec)\n",
      "INFO:tensorflow:global_step/sec: 281.019\n",
      "INFO:tensorflow:loss = 0.218978, step = 301 (0.356 sec)\n",
      "INFO:tensorflow:global_step/sec: 295.676\n",
      "INFO:tensorflow:loss = 0.494058, step = 401 (0.338 sec)\n",
      "INFO:tensorflow:global_step/sec: 269.245\n",
      "INFO:tensorflow:loss = 0.235817, step = 501 (0.371 sec)\n",
      "INFO:tensorflow:global_step/sec: 266.156\n",
      "INFO:tensorflow:loss = 0.427901, step = 601 (0.377 sec)\n",
      "INFO:tensorflow:global_step/sec: 271.44\n",
      "INFO:tensorflow:loss = 0.261354, step = 701 (0.368 sec)\n",
      "INFO:tensorflow:global_step/sec: 293.638\n",
      "INFO:tensorflow:loss = 0.237916, step = 801 (0.340 sec)\n",
      "INFO:tensorflow:global_step/sec: 283.879\n",
      "INFO:tensorflow:loss = 0.373657, step = 901 (0.353 sec)\n",
      "INFO:tensorflow:global_step/sec: 277.351\n",
      "INFO:tensorflow:loss = 0.412235, step = 1001 (0.361 sec)\n",
      "INFO:tensorflow:global_step/sec: 280.312\n",
      "INFO:tensorflow:loss = 0.355173, step = 1101 (0.356 sec)\n",
      "INFO:tensorflow:global_step/sec: 275.63\n",
      "INFO:tensorflow:loss = 0.193387, step = 1201 (0.363 sec)\n",
      "INFO:tensorflow:global_step/sec: 267.257\n",
      "INFO:tensorflow:loss = 0.286379, step = 1301 (0.374 sec)\n",
      "INFO:tensorflow:global_step/sec: 293.901\n",
      "INFO:tensorflow:loss = 0.174187, step = 1401 (0.340 sec)\n",
      "INFO:tensorflow:global_step/sec: 277.874\n",
      "INFO:tensorflow:loss = 0.294194, step = 1501 (0.360 sec)\n",
      "INFO:tensorflow:global_step/sec: 274.991\n",
      "INFO:tensorflow:loss = 0.153459, step = 1601 (0.363 sec)\n",
      "INFO:tensorflow:global_step/sec: 278.687\n",
      "INFO:tensorflow:loss = 0.203968, step = 1701 (0.360 sec)\n",
      "INFO:tensorflow:global_step/sec: 289.607\n",
      "INFO:tensorflow:loss = 0.340943, step = 1801 (0.346 sec)\n",
      "INFO:tensorflow:global_step/sec: 268.241\n",
      "INFO:tensorflow:loss = 0.305407, step = 1901 (0.371 sec)\n",
      "INFO:tensorflow:Saving checkpoints for 2000 into /var/folders/6p/yqt9w6sx0330_s_nfp4gzzm40000gn/T/tmp42i8jpz4/model.ckpt.\n",
      "INFO:tensorflow:Loss for final step: 0.286323.\n"
     ]
    },
    {
     "data": {
      "text/plain": [
       "<tensorflow.python.estimator.estimator.Estimator at 0x119d5da20>"
      ]
     },
     "execution_count": 4,
     "metadata": {},
     "output_type": "execute_result"
    }
   ],
   "source": [
    "model = tf.estimator.Estimator(model_fn)\n",
    "input_fn = tf.estimator.inputs.numpy_input_fn(\n",
    "    x={'images': mnist.train.images}, y=mnist.train.labels,\n",
    "    batch_size=batch_size, num_epochs=None, shuffle=True)\n",
    "model.train(input_fn, steps=num_steps)"
   ]
  },
  {
   "cell_type": "markdown",
   "metadata": {},
   "source": [
    "# 4. Evaluate"
   ]
  },
  {
   "cell_type": "code",
   "execution_count": 5,
   "metadata": {},
   "outputs": [
    {
     "name": "stdout",
     "output_type": "stream",
     "text": [
      "INFO:tensorflow:Starting evaluation at 2018-07-07-03:10:02\n",
      "INFO:tensorflow:Restoring parameters from /var/folders/6p/yqt9w6sx0330_s_nfp4gzzm40000gn/T/tmp42i8jpz4/model.ckpt-2000\n",
      "INFO:tensorflow:Finished evaluation at 2018-07-07-03:10:02\n",
      "INFO:tensorflow:Saving dict for global step 2000: accuracy = 0.9193, global_step = 2000, loss = 0.270117\n"
     ]
    },
    {
     "data": {
      "text/plain": [
       "{'accuracy': 0.91930002, 'global_step': 2000, 'loss': 0.27011731}"
      ]
     },
     "execution_count": 5,
     "metadata": {},
     "output_type": "execute_result"
    }
   ],
   "source": [
    "input_fn = tf.estimator.inputs.numpy_input_fn(\n",
    "    x={'images': mnist.test.images}, y=mnist.test.labels,\n",
    "    batch_size=batch_size, shuffle=False)\n",
    "model.evaluate(input_fn)"
   ]
  },
  {
   "cell_type": "code",
   "execution_count": 7,
   "metadata": {},
   "outputs": [
    {
     "name": "stdout",
     "output_type": "stream",
     "text": [
      "INFO:tensorflow:Restoring parameters from /var/folders/6p/yqt9w6sx0330_s_nfp4gzzm40000gn/T/tmp42i8jpz4/model.ckpt-2000\n"
     ]
    },
    {
     "data": {
      "image/png": "[encoded data removed]",
      "text/plain": [
       "<matplotlib.figure.Figure at 0x1230ef668>"
      ]
     },
     "metadata": {},
     "output_type": "display_data"
    },
    {
     "name": "stdout",
     "output_type": "stream",
     "text": [
      "Label:  5      Model prediction: 6\n"
     ]
    },
    {
     "data": {
      "image/png": "[encoded data removed]",
      "text/plain": [
       "<matplotlib.figure.Figure at 0x11f346470>"
      ]
     },
     "metadata": {},
     "output_type": "display_data"
    },
    {
     "name": "stdout",
     "output_type": "stream",
     "text": [
      "Label:  4      Model prediction: 6\n"
     ]
    },
    {
     "data": {
      "image/png": "[encoded data removed]",
      "text/plain": [
       "<matplotlib.figure.Figure at 0x11f35c400>"
      ]
     },
     "metadata": {},
     "output_type": "display_data"
    },
    {
     "name": "stdout",
     "output_type": "stream",
     "text": [
      "Label:  3      Model prediction: 2\n"
     ]
    },
    {
     "data": {
      "image/png": "[encoded data removed]",
      "text/plain": [
       "<matplotlib.figure.Figure at 0x119e2eeb8>"
      ]
     },
     "metadata": {},
     "output_type": "display_data"
    },
    {
     "name": "stdout",
     "output_type": "stream",
     "text": [
      "Label:  6      Model prediction: 7\n"
     ]
    },
    {
     "data": {
      "image/png": "[encoded data removed]",
      "text/plain": [
       "<matplotlib.figure.Figure at 0x119e8df60>"
      ]
     },
     "metadata": {},
     "output_type": "display_data"
    },
    {
     "name": "stdout",
     "output_type": "stream",
     "text": [
      "Label:  9      Model prediction: 7\n"
     ]
    }
   ],
   "source": [
    "import matplotlib.pyplot as plt\n",
    "import numpy as np\n",
    "\n",
    "input_fn = tf.estimator.inputs.numpy_input_fn(x={'images': mnist.test.images}, shuffle=False)\n",
    "preds = np.asarray(list(model.predict(input_fn)))\n",
    "error_pred = np.not_equal(preds, mnist.test.labels)\n",
    "error_images = mnist.test.images[error_pred]\n",
    "error_labels = mnist.test.labels[error_pred]\n",
    "error_p = preds[error_pred]\n",
    "\n",
    "for i in range(5):\n",
    "    plt.imshow(np.reshape(error_images[i], [28, 28]), cmap='gray')\n",
    "    plt.show()\n",
    "    print(\"Label: \", error_labels[i], \"     Model prediction:\", error_p[i])"
   ]
  }
 ],
 "metadata": {
  "kernelspec": {
   "display_name": "Python 3",
   "language": "python",
   "name": "python3"
  },
  "language_info": {
   "codemirror_mode": {
    "name": "ipython",
    "version": 3
   },
   "file_extension": ".py",
   "mimetype": "text/x-python",
   "name": "python",
   "nbconvert_exporter": "python",
   "pygments_lexer": "ipython3",
   "version": "3.6.4"
  }
 },
 "nbformat": 4,
 "nbformat_minor": 2
}
