{
 "cells": [
  {
   "cell_type": "markdown",
   "metadata": {},
   "source": [
    "# 1. Problem"
   ]
  },
  {
   "cell_type": "code",
   "execution_count": 1,
   "metadata": {},
   "outputs": [
    {
     "name": "stdout",
     "output_type": "stream",
     "text": [
      "WARNING:tensorflow:From <ipython-input-1-c65c58a2baf8>:5: read_data_sets (from tensorflow.contrib.learn.python.learn.datasets.mnist) is deprecated and will be removed in a future version.\n",
      "Instructions for updating:\n",
      "Please use alternatives such as official/mnist/dataset.py from tensorflow/models.\n",
      "WARNING:tensorflow:From c:\\users\\305018257\\appdata\\local\\programs\\python\\python36\\lib\\site-packages\\tensorflow\\contrib\\learn\\python\\learn\\datasets\\mnist.py:260: maybe_download (from tensorflow.contrib.learn.python.learn.datasets.base) is deprecated and will be removed in a future version.\n",
      "Instructions for updating:\n",
      "Please write your own downloading logic.\n",
      "WARNING:tensorflow:From c:\\users\\305018257\\appdata\\local\\programs\\python\\python36\\lib\\site-packages\\tensorflow\\contrib\\learn\\python\\learn\\datasets\\mnist.py:262: extract_images (from tensorflow.contrib.learn.python.learn.datasets.mnist) is deprecated and will be removed in a future version.\n",
      "Instructions for updating:\n",
      "Please use tf.data to implement this functionality.\n",
      "Extracting ./mnist_data/train-images-idx3-ubyte.gz\n",
      "WARNING:tensorflow:From c:\\users\\305018257\\appdata\\local\\programs\\python\\python36\\lib\\site-packages\\tensorflow\\contrib\\learn\\python\\learn\\datasets\\mnist.py:267: extract_labels (from tensorflow.contrib.learn.python.learn.datasets.mnist) is deprecated and will be removed in a future version.\n",
      "Instructions for updating:\n",
      "Please use tf.data to implement this functionality.\n",
      "Extracting ./mnist_data/train-labels-idx1-ubyte.gz\n",
      "Extracting ./mnist_data/t10k-images-idx3-ubyte.gz\n",
      "Extracting ./mnist_data/t10k-labels-idx1-ubyte.gz\n",
      "WARNING:tensorflow:From c:\\users\\305018257\\appdata\\local\\programs\\python\\python36\\lib\\site-packages\\tensorflow\\contrib\\learn\\python\\learn\\datasets\\mnist.py:290: DataSet.__init__ (from tensorflow.contrib.learn.python.learn.datasets.mnist) is deprecated and will be removed in a future version.\n",
      "Instructions for updating:\n",
      "Please use alternatives such as official/mnist/dataset.py from tensorflow/models.\n"
     ]
    }
   ],
   "source": [
    "import tensorflow as tf\n",
    "\n",
    "# Import MINST data\n",
    "from tensorflow.examples.tutorials.mnist import input_data\n",
    "mnist = input_data.read_data_sets(\"./mnist_data/\", one_hot=False)"
   ]
  },
  {
   "cell_type": "markdown",
   "metadata": {},
   "source": [
    "# 2. Neural Network\n",
    "![](images/neural_network.jpeg)"
   ]
  },
  {
   "cell_type": "markdown",
   "metadata": {},
   "source": [
    "# 3. Train"
   ]
  },
  {
   "cell_type": "code",
   "execution_count": 2,
   "metadata": {},
   "outputs": [],
   "source": [
    "# Parameters\n",
    "learning_rate = 0.1\n",
    "num_steps = 3000\n",
    "batch_size = 128\n",
    "display_step = 100\n",
    "\n",
    "# Network Parameters\n",
    "n_hidden_1 = 256          # 1st layer number of neurons\n",
    "n_hidden_2 = 256          # 2nd layer number of neurons\n",
    "num_input = 784           # MNIST data input (img shape: 28*28)\n",
    "num_classes = 10          # MNIST total classes (0-9 digits)\n",
    "\n",
    "# Define the input function for training\n"
   ]
  },
  {
   "cell_type": "code",
   "execution_count": 3,
   "metadata": {},
   "outputs": [],
   "source": [
    "# Define the model function (following TF Estimator Template)\n",
    "def model_fn(features, labels, mode):\n",
    "    x = features['images']\n",
    "    layer_1 = tf.layers.dense(x, n_hidden_1)\n",
    "    layer_2 = tf.layers.dense(layer_1, n_hidden_2)\n",
    "    logits = tf.layers.dense(layer_2, num_classes)\n",
    "\n",
    "    pred_classes = tf.argmax(logits, axis=1)\n",
    "    pred_probas = tf.nn.softmax(logits)\n",
    "    \n",
    "    if mode == tf.estimator.ModeKeys.PREDICT:\n",
    "        return tf.estimator.EstimatorSpec(mode, predictions=pred_classes) \n",
    "        \n",
    "    loss_op = tf.reduce_mean(tf.nn.sparse_softmax_cross_entropy_with_logits(\n",
    "        logits=logits, labels=tf.cast(labels, dtype=tf.int32)))\n",
    "    optimizer = tf.train.GradientDescentOptimizer(learning_rate=learning_rate)\n",
    "    train_op = optimizer.minimize(loss_op, global_step=tf.train.get_global_step())\n",
    "    \n",
    "    # Evaluate the accuracy of the model\n",
    "    acc_op = tf.metrics.accuracy(labels=labels, predictions=pred_classes)\n",
    "    \n",
    "    # TF Estimators requires to return a EstimatorSpec, that specify\n",
    "    # the different ops for training, evaluating, ...\n",
    "    return tf.estimator.EstimatorSpec(\n",
    "        mode=mode, predictions=pred_classes, loss=loss_op, \n",
    "        train_op=train_op, eval_metric_ops={'accuracy': acc_op})"
   ]
  },
  {
   "cell_type": "code",
   "execution_count": 4,
   "metadata": {},
   "outputs": [
    {
     "name": "stdout",
     "output_type": "stream",
     "text": [
      "INFO:tensorflow:Using default config.\n",
      "WARNING:tensorflow:Using temporary folder as model directory: C:\\Temp\\tmpa1lvwg1_\n",
      "INFO:tensorflow:Using config: {'_model_dir': 'C:\\\\Temp\\\\tmpa1lvwg1_', '_tf_random_seed': None, '_save_summary_steps': 100, '_save_checkpoints_steps': None, '_save_checkpoints_secs': 600, '_session_config': None, '_keep_checkpoint_max': 5, '_keep_checkpoint_every_n_hours': 10000, '_log_step_count_steps': 100, '_train_distribute': None, '_service': None, '_cluster_spec': <tensorflow.python.training.server_lib.ClusterSpec object at 0x0000000011F72CC0>, '_task_type': 'worker', '_task_id': 0, '_global_id_in_cluster': 0, '_master': '', '_evaluation_master': '', '_is_chief': True, '_num_ps_replicas': 0, '_num_worker_replicas': 1}\n",
      "INFO:tensorflow:Calling model_fn.\n",
      "INFO:tensorflow:Done calling model_fn.\n",
      "INFO:tensorflow:Create CheckpointSaverHook.\n",
      "INFO:tensorflow:Graph was finalized.\n",
      "INFO:tensorflow:Running local_init_op.\n",
      "INFO:tensorflow:Done running local_init_op.\n",
      "INFO:tensorflow:Saving checkpoints for 1 into C:\\Temp\\tmpa1lvwg1_\\model.ckpt.\n",
      "INFO:tensorflow:loss = 2.368739, step = 1\n",
      "INFO:tensorflow:global_step/sec: 170.94\n",
      "INFO:tensorflow:loss = 0.41491407, step = 101 (0.585 sec)\n",
      "INFO:tensorflow:global_step/sec: 198.02\n",
      "INFO:tensorflow:loss = 0.38540703, step = 201 (0.505 sec)\n",
      "INFO:tensorflow:global_step/sec: 210.172\n",
      "INFO:tensorflow:loss = 0.41350752, step = 301 (0.476 sec)\n",
      "INFO:tensorflow:global_step/sec: 223.914\n",
      "INFO:tensorflow:loss = 0.26334655, step = 401 (0.447 sec)\n",
      "INFO:tensorflow:global_step/sec: 207.297\n",
      "INFO:tensorflow:loss = 0.23568739, step = 501 (0.482 sec)\n",
      "INFO:tensorflow:global_step/sec: 214.5\n",
      "INFO:tensorflow:loss = 0.31218582, step = 601 (0.482 sec)\n",
      "INFO:tensorflow:global_step/sec: 200.803\n",
      "INFO:tensorflow:loss = 0.2070863, step = 701 (0.482 sec)\n",
      "INFO:tensorflow:global_step/sec: 213.767\n",
      "INFO:tensorflow:loss = 0.3326469, step = 801 (0.468 sec)\n",
      "INFO:tensorflow:global_step/sec: 214.224\n",
      "INFO:tensorflow:loss = 0.24108048, step = 901 (0.467 sec)\n",
      "INFO:tensorflow:global_step/sec: 221.239\n",
      "INFO:tensorflow:loss = 0.39936894, step = 1001 (0.452 sec)\n",
      "INFO:tensorflow:global_step/sec: 222.124\n",
      "INFO:tensorflow:loss = 0.3740484, step = 1101 (0.451 sec)\n",
      "INFO:tensorflow:global_step/sec: 214.041\n",
      "INFO:tensorflow:loss = 0.3977835, step = 1201 (0.466 sec)\n",
      "INFO:tensorflow:global_step/sec: 215.424\n",
      "INFO:tensorflow:loss = 0.3932761, step = 1301 (0.464 sec)\n",
      "INFO:tensorflow:global_step/sec: 230.309\n",
      "INFO:tensorflow:loss = 0.35322595, step = 1401 (0.450 sec)\n",
      "INFO:tensorflow:global_step/sec: 222.123\n",
      "INFO:tensorflow:loss = 0.25223795, step = 1501 (0.435 sec)\n",
      "INFO:tensorflow:global_step/sec: 229.358\n",
      "INFO:tensorflow:loss = 0.24934435, step = 1601 (0.436 sec)\n",
      "INFO:tensorflow:global_step/sec: 223.614\n",
      "INFO:tensorflow:loss = 0.34982502, step = 1701 (0.447 sec)\n",
      "INFO:tensorflow:global_step/sec: 230.627\n",
      "INFO:tensorflow:loss = 0.2901217, step = 1801 (0.434 sec)\n",
      "INFO:tensorflow:global_step/sec: 237.53\n",
      "INFO:tensorflow:loss = 0.32661217, step = 1901 (0.421 sec)\n",
      "INFO:tensorflow:global_step/sec: 224.618\n",
      "INFO:tensorflow:loss = 0.2777534, step = 2001 (0.461 sec)\n",
      "INFO:tensorflow:global_step/sec: 207.727\n",
      "INFO:tensorflow:loss = 0.29215997, step = 2101 (0.466 sec)\n",
      "INFO:tensorflow:global_step/sec: 220.653\n",
      "INFO:tensorflow:loss = 0.22927067, step = 2201 (0.453 sec)\n",
      "INFO:tensorflow:global_step/sec: 229.568\n",
      "INFO:tensorflow:loss = 0.17314135, step = 2301 (0.436 sec)\n",
      "INFO:tensorflow:global_step/sec: 230.309\n",
      "INFO:tensorflow:loss = 0.27383232, step = 2401 (0.434 sec)\n",
      "INFO:tensorflow:global_step/sec: 232.558\n",
      "INFO:tensorflow:loss = 0.18771778, step = 2501 (0.430 sec)\n",
      "INFO:tensorflow:global_step/sec: 240.385\n",
      "INFO:tensorflow:loss = 0.12943572, step = 2601 (0.432 sec)\n",
      "INFO:tensorflow:global_step/sec: 230.627\n",
      "INFO:tensorflow:loss = 0.22705397, step = 2701 (0.418 sec)\n",
      "INFO:tensorflow:global_step/sec: 222.42\n",
      "INFO:tensorflow:loss = 0.110903785, step = 2801 (0.450 sec)\n",
      "INFO:tensorflow:global_step/sec: 222.222\n",
      "INFO:tensorflow:loss = 0.46475255, step = 2901 (0.450 sec)\n",
      "INFO:tensorflow:Saving checkpoints for 3000 into C:\\Temp\\tmpa1lvwg1_\\model.ckpt.\n",
      "INFO:tensorflow:Loss for final step: 0.29399452.\n"
     ]
    },
    {
     "data": {
      "text/plain": [
       "<tensorflow.python.estimator.estimator.Estimator at 0x11f72c50>"
      ]
     },
     "execution_count": 4,
     "metadata": {},
     "output_type": "execute_result"
    }
   ],
   "source": [
    "model = tf.estimator.Estimator(model_fn)\n",
    "input_fn = tf.estimator.inputs.numpy_input_fn(\n",
    "    x={'images': mnist.train.images}, y=mnist.train.labels,\n",
    "    batch_size=batch_size, num_epochs=None, shuffle=True)\n",
    "model.train(input_fn, steps=num_steps)"
   ]
  },
  {
   "cell_type": "markdown",
   "metadata": {},
   "source": [
    "# 4. Evaluate"
   ]
  },
  {
   "cell_type": "code",
   "execution_count": 5,
   "metadata": {},
   "outputs": [
    {
     "name": "stdout",
     "output_type": "stream",
     "text": [
      "INFO:tensorflow:Calling model_fn.\n",
      "INFO:tensorflow:Done calling model_fn.\n",
      "INFO:tensorflow:Starting evaluation at 2018-07-09-01:02:44\n",
      "INFO:tensorflow:Graph was finalized.\n",
      "INFO:tensorflow:Restoring parameters from C:\\Temp\\tmpa1lvwg1_\\model.ckpt-3000\n",
      "INFO:tensorflow:Running local_init_op.\n",
      "INFO:tensorflow:Done running local_init_op.\n",
      "INFO:tensorflow:Finished evaluation at 2018-07-09-01:02:45\n",
      "INFO:tensorflow:Saving dict for global step 3000: accuracy = 0.9222, global_step = 3000, loss = 0.27363855\n"
     ]
    },
    {
     "data": {
      "text/plain": [
       "{'accuracy': 0.9222, 'loss': 0.27363855, 'global_step': 3000}"
      ]
     },
     "execution_count": 5,
     "metadata": {},
     "output_type": "execute_result"
    }
   ],
   "source": [
    "input_fn = tf.estimator.inputs.numpy_input_fn(\n",
    "    x={'images': mnist.test.images}, y=mnist.test.labels,\n",
    "    batch_size=batch_size, shuffle=False)\n",
    "model.evaluate(input_fn)"
   ]
  },
  {
   "cell_type": "code",
   "execution_count": 6,
   "metadata": {},
   "outputs": [
    {
     "name": "stdout",
     "output_type": "stream",
     "text": [
      "INFO:tensorflow:Calling model_fn.\n",
      "INFO:tensorflow:Done calling model_fn.\n",
      "INFO:tensorflow:Graph was finalized.\n",
      "INFO:tensorflow:Restoring parameters from C:\\Temp\\tmpa1lvwg1_\\model.ckpt-3000\n",
      "INFO:tensorflow:Running local_init_op.\n",
      "INFO:tensorflow:Done running local_init_op.\n"
     ]
    },
    {
     "data": {
      "text/plain": [
       "<Figure size 640x480 with 1 Axes>"
      ]
     },
     "metadata": {},
     "output_type": "display_data"
    },
    {
     "name": "stdout",
     "output_type": "stream",
     "text": [
      "Label:  5      Model prediction: 6\n"
     ]
    },
    {
     "data": {
      "text/plain": [
       "<Figure size 640x480 with 1 Axes>"
      ]
     },
     "metadata": {},
     "output_type": "display_data"
    },
    {
     "name": "stdout",
     "output_type": "stream",
     "text": [
      "Label:  4      Model prediction: 0\n"
     ]
    },
    {
     "data": {
      "text/plain": [
       "<Figure size 640x480 with 1 Axes>"
      ]
     },
     "metadata": {},
     "output_type": "display_data"
    },
    {
     "name": "stdout",
     "output_type": "stream",
     "text": [
      "Label:  3      Model prediction: 2\n"
     ]
    },
    {
     "data": {
      "text/plain": [
       "<Figure size 640x480 with 1 Axes>"
      ]
     },
     "metadata": {},
     "output_type": "display_data"
    },
    {
     "name": "stdout",
     "output_type": "stream",
     "text": [
      "Label:  6      Model prediction: 7\n"
     ]
    },
    {
     "data": {
      "text/plain": [
       "<Figure size 640x480 with 1 Axes>"
      ]
     },
     "metadata": {},
     "output_type": "display_data"
    },
    {
     "name": "stdout",
     "output_type": "stream",
     "text": [
      "Label:  7      Model prediction: 4\n"
     ]
    }
   ],
   "source": [
    "import matplotlib.pyplot as plt\n",
    "import numpy as np\n",
    "\n",
    "input_fn = tf.estimator.inputs.numpy_input_fn(x={'images': mnist.test.images}, shuffle=False)\n",
    "preds = np.asarray(list(model.predict(input_fn)))\n",
    "error_pred = np.not_equal(preds, mnist.test.labels)\n",
    "error_images = mnist.test.images[error_pred]\n",
    "error_labels = mnist.test.labels[error_pred]\n",
    "error_p = preds[error_pred]\n",
    "\n",
    "for i in range(5):\n",
    "    plt.imshow(np.reshape(error_images[i], [28, 28]), cmap='gray')\n",
    "    plt.show()\n",
    "    print(\"Label: \", error_labels[i], \"     Model prediction:\", error_p[i])"
   ]
  }
 ],
 "metadata": {
  "kernelspec": {
   "display_name": "Python 3",
   "language": "python",
   "name": "python3"
  },
  "language_info": {
   "codemirror_mode": {
    "name": "ipython",
    "version": 3
   },
   "file_extension": ".py",
   "mimetype": "text/x-python",
   "name": "python",
   "nbconvert_exporter": "python",
   "pygments_lexer": "ipython3",
   "version": "3.6.5"
  }
 },
 "nbformat": 4,
 "nbformat_minor": 2
}
