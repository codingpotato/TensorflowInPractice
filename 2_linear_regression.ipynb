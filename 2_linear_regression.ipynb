{
 "cells": [
  {
   "cell_type": "markdown",
   "metadata": {},
   "source": [
    "## 1. Problem"
   ]
  },
  {
   "cell_type": "code",
   "execution_count": 1,
   "metadata": {},
   "outputs": [
    {
     "name": "stdout",
     "output_type": "stream",
     "text": [
      "17\n"
     ]
    }
   ],
   "source": [
    "import numpy\n",
    "train_X = numpy.asarray([3.3, 4.4, 5.5, 6.71, 6.93, 4.168, 9.779, 6.182, 7.59, 2.167,\n",
    "                         7.042, 10.791, 5.313, 7.997, 5.654, 9.27, 3.1])\n",
    "train_Y = numpy.asarray([1.7, 2.76, 2.09, 3.19, 1.694, 1.573, 3.366, 2.596, 2.53, 1.221,\n",
    "                         2.827, 3.465, 1.65, 2.904, 2.42, 2.94, 1.3])\n",
    "n_samples = train_X.shape[0]\n",
    "print(n_samples)"
   ]
  },
  {
   "cell_type": "code",
   "execution_count": 2,
   "metadata": {},
   "outputs": [
    {
     "data": {
      "text/plain": [
       "<Figure size 640x480 with 1 Axes>"
      ]
     },
     "metadata": {},
     "output_type": "display_data"
    }
   ],
   "source": [
    "import matplotlib.pyplot as plt\n",
    "plt.plot(train_X, train_Y, 'ro', label='Training Data')\n",
    "plt.legend()\n",
    "plt.show()"
   ]
  },
  {
   "cell_type": "markdown",
   "metadata": {},
   "source": [
    "## 2. Linear Regression"
   ]
  },
  {
   "cell_type": "markdown",
   "metadata": {},
   "source": [
    "![](images/reg_error.gif)"
   ]
  },
  {
   "cell_type": "code",
   "execution_count": 3,
   "metadata": {},
   "outputs": [],
   "source": [
    "import tensorflow as tf\n",
    "\n",
    "rng = numpy.random\n",
    "X = tf.placeholder(tf.float32)\n",
    "Y = tf.placeholder(tf.float32)\n",
    "W = tf.Variable(rng.randn(), name=\"weight\")\n",
    "b = tf.Variable(rng.randn(), name=\"bias\")\n",
    "pred = tf.add(tf.multiply(X, W), b)"
   ]
  },
  {
   "cell_type": "markdown",
   "metadata": {},
   "source": [
    "## 3. Mean Squared Error\n",
    "![](images/mean_squared_error.svg)"
   ]
  },
  {
   "cell_type": "code",
   "execution_count": 4,
   "metadata": {},
   "outputs": [],
   "source": [
    "cost = tf.reduce_sum(tf.pow(pred - Y, 2)) / (2 * n_samples)"
   ]
  },
  {
   "cell_type": "markdown",
   "metadata": {},
   "source": [
    "## 4. Gradient Descent\n",
    "![](images/gradient_descent_demystified.png)\n",
    "![](images/gredient_decent.png)\n",
    "![](images/0tirm.png)"
   ]
  },
  {
   "cell_type": "code",
   "execution_count": 5,
   "metadata": {},
   "outputs": [],
   "source": [
    "learning_rate = 0.01\n",
    "optimizer = tf.train.GradientDescentOptimizer(learning_rate).minimize(cost)"
   ]
  },
  {
   "cell_type": "markdown",
   "metadata": {},
   "source": [
    "## 5. Train"
   ]
  },
  {
   "cell_type": "code",
   "execution_count": 6,
   "metadata": {},
   "outputs": [
    {
     "name": "stdout",
     "output_type": "stream",
     "text": [
      "Epoch: 0001 cost= 16.326742172 W= 1.1443992 b= 0.5415947\n",
      "Epoch: 0050 cost= 0.084844925 W= 0.29931945 b= 0.44374233\n",
      "Epoch: 0100 cost= 0.083934315 W= 0.2963619 b= 0.46501818\n",
      "Epoch: 0150 cost= 0.083129026 W= 0.2935803 b= 0.4850289\n",
      "Epoch: 0200 cost= 0.082416907 W= 0.29096422 b= 0.503849\n",
      "Epoch: 0250 cost= 0.081787243 W= 0.28850383 b= 0.521549\n",
      "Epoch: 0300 cost= 0.081230447 W= 0.28618962 b= 0.5381969\n",
      "Epoch: 0350 cost= 0.080738038 W= 0.28401303 b= 0.55385536\n",
      "Epoch: 0400 cost= 0.080302671 W= 0.28196588 b= 0.56858236\n",
      "Epoch: 0450 cost= 0.079917707 W= 0.2800404 b= 0.58243406\n",
      "Epoch: 0500 cost= 0.079577334 W= 0.27822953 b= 0.5954619\n",
      "Epoch: 0550 cost= 0.079276398 W= 0.27652612 b= 0.6077158\n",
      "Epoch: 0600 cost= 0.079010352 W= 0.27492437 b= 0.6192391\n",
      "Epoch: 0650 cost= 0.078775167 W= 0.27341792 b= 0.630076\n",
      "Epoch: 0700 cost= 0.078567266 W= 0.27200112 b= 0.640268\n",
      "Epoch: 0750 cost= 0.078383468 W= 0.27066863 b= 0.64985436\n",
      "Epoch: 0800 cost= 0.078220993 W= 0.2694153 b= 0.65887064\n",
      "Epoch: 0850 cost= 0.078077361 W= 0.2682365 b= 0.6673508\n",
      "Epoch: 0900 cost= 0.077950403 W= 0.26712772 b= 0.67532724\n",
      "Epoch: 0950 cost= 0.077838205 W= 0.26608494 b= 0.6828285\n",
      "Epoch: 1000 cost= 0.077739038 W= 0.2651042 b= 0.6898842\n",
      "Training Finished!\n",
      "Training cost= 0.07773904 W= 0.2651042 b= 0.6898842 \n",
      "\n"
     ]
    }
   ],
   "source": [
    "# Parameters\n",
    "training_epochs = 1000\n",
    "display_step = 50\n",
    "\n",
    "# Start training\n",
    "sess = tf.Session()\n",
    "\n",
    "# Initialize the variables (i.e. assign their default value)\n",
    "init = tf.global_variables_initializer()\n",
    "sess.run(init)\n",
    "\n",
    "# Record learning curve\n",
    "lc_epoch = []\n",
    "lc_cost = []\n",
    "\n",
    "# Fit all training data\n",
    "for epoch in range(training_epochs):\n",
    "    for (x, y) in zip(train_X, train_Y):\n",
    "        sess.run(optimizer, feed_dict={X: x, Y: y})\n",
    "\n",
    "    # Display logs per epoch step\n",
    "    if epoch == 0 or (epoch + 1) % display_step == 0:\n",
    "        c = sess.run(cost, feed_dict={X: train_X, Y:train_Y})\n",
    "        print(\"Epoch:\", '%04d' % (epoch + 1), \"cost=\", \"{:.9f}\".format(c), \n",
    "              \"W=\", sess.run(W), \"b=\", sess.run(b))\n",
    "        lc_epoch.append(epoch + 1)\n",
    "        lc_cost.append(c)\n",
    "        \n",
    "print(\"Training Finished!\")\n",
    "training_cost = sess.run(cost, feed_dict={X: train_X, Y: train_Y})\n",
    "print(\"Training cost=\", training_cost, \"W=\", sess.run(W), \"b=\", sess.run(b), '\\n')"
   ]
  },
  {
   "cell_type": "code",
   "execution_count": 7,
   "metadata": {},
   "outputs": [
    {
     "data": {
      "image/png": "[encoded data removed]",
      "text/plain": [
       "<Figure size 432x288 with 1 Axes>"
      ]
     },
     "metadata": {},
     "output_type": "display_data"
    }
   ],
   "source": [
    "plt.plot(train_X, train_Y, 'ro', label='Original data')\n",
    "plt.plot(train_X, sess.run(W) * train_X + sess.run(b), label='Fitted line')\n",
    "plt.legend()\n",
    "plt.show()"
   ]
  },
  {
   "cell_type": "markdown",
   "metadata": {},
   "source": [
    "# 6. Learning Curve"
   ]
  },
  {
   "cell_type": "code",
   "execution_count": 8,
   "metadata": {},
   "outputs": [
    {
     "data": {
      "image/png": "[encoded data removed]",
      "text/plain": [
       "<Figure size 432x288 with 1 Axes>"
      ]
     },
     "metadata": {},
     "output_type": "display_data"
    }
   ],
   "source": [
    "plt.plot(lc_epoch, lc_cost, 'r-', label='Learning Curve')\n",
    "plt.legend()\n",
    "plt.show()"
   ]
  }
 ],
 "metadata": {
  "kernelspec": {
   "display_name": "Python 3",
   "language": "python",
   "name": "python3"
  },
  "language_info": {
   "codemirror_mode": {
    "name": "ipython",
    "version": 3
   },
   "file_extension": ".py",
   "mimetype": "text/x-python",
   "name": "python",
   "nbconvert_exporter": "python",
   "pygments_lexer": "ipython3",
   "version": "3.6.5"
  }
 },
 "nbformat": 4,
 "nbformat_minor": 2
}
