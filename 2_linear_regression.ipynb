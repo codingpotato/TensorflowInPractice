{
 "cells": [
  {
   "cell_type": "markdown",
   "metadata": {},
   "source": [
    "## 1. Problem"
   ]
  },
  {
   "cell_type": "code",
   "execution_count": 1,
   "metadata": {},
   "outputs": [
    {
     "name": "stdout",
     "output_type": "stream",
     "text": [
      "17\n"
     ]
    }
   ],
   "source": [
    "import numpy\n",
    "train_X = numpy.asarray([3.3, 4.4, 5.5, 6.71, 6.93, 4.168, 9.779, 6.182, 7.59, 2.167,\n",
    "                         7.042, 10.791, 5.313, 7.997, 5.654, 9.27, 3.1])\n",
    "train_Y = numpy.asarray([1.7, 2.76, 2.09, 3.19, 1.694, 1.573, 3.366, 2.596, 2.53, 1.221,\n",
    "                         2.827, 3.465, 1.65, 2.904, 2.42, 2.94, 1.3])\n",
    "n_samples = train_X.shape[0]\n",
    "print(n_samples)"
   ]
  },
  {
   "cell_type": "code",
   "execution_count": 2,
   "metadata": {},
   "outputs": [
    {
     "data": {
      "text/plain": [
       "<Figure size 640x480 with 1 Axes>"
      ]
     },
     "metadata": {},
     "output_type": "display_data"
    }
   ],
   "source": [
    "import matplotlib.pyplot as plt\n",
    "plt.plot(train_X, train_Y, 'ro', label='Training Data')\n",
    "plt.legend()\n",
    "plt.show()"
   ]
  },
  {
   "cell_type": "markdown",
   "metadata": {},
   "source": [
    "## 2. Linear Regression"
   ]
  },
  {
   "cell_type": "markdown",
   "metadata": {},
   "source": [
    "![](images/reg_error.gif)"
   ]
  },
  {
   "cell_type": "code",
   "execution_count": 3,
   "metadata": {},
   "outputs": [],
   "source": [
    "import tensorflow as tf\n",
    "\n",
    "rng = numpy.random\n",
    "X = tf.placeholder(tf.float32)\n",
    "Y = tf.placeholder(tf.float32)\n",
    "W = tf.Variable(rng.randn(), name=\"weight\")\n",
    "b = tf.Variable(rng.randn(), name=\"bias\")\n",
    "pred = tf.add(tf.multiply(X, W), b)"
   ]
  },
  {
   "cell_type": "markdown",
   "metadata": {},
   "source": [
    "## 3. Mean Squared Error\n",
    "![](images/mean_squared_error.svg)"
   ]
  },
  {
   "cell_type": "code",
   "execution_count": 4,
   "metadata": {},
   "outputs": [],
   "source": [
    "cost = tf.reduce_sum(tf.pow(pred - Y, 2)) / (2 * n_samples)"
   ]
  },
  {
   "cell_type": "markdown",
   "metadata": {},
   "source": [
    "## 4. Gradient Descent\n",
    "![](images/gradient_descent_demystified.png)\n",
    "![](images/gredient_decent.png)\n",
    "![](images/0tirm.png)"
   ]
  },
  {
   "cell_type": "code",
   "execution_count": 5,
   "metadata": {},
   "outputs": [],
   "source": [
    "learning_rate = 0.01\n",
    "optimizer = tf.train.GradientDescentOptimizer(learning_rate).minimize(cost)"
   ]
  },
  {
   "cell_type": "markdown",
   "metadata": {},
   "source": [
    "## 5. Train"
   ]
  },
  {
   "cell_type": "code",
   "execution_count": 6,
   "metadata": {},
   "outputs": [
    {
     "name": "stdout",
     "output_type": "stream",
     "text": [
      "Epoch: 0001 cost= 4.599255085 W= 0.7543029 b= 0.43527174\n",
      "Epoch: 0050 cost= 0.087047301 W= 0.3058302 b= 0.39690453\n",
      "Epoch: 0100 cost= 0.085881993 W= 0.3024856 b= 0.42096525\n",
      "Epoch: 0150 cost= 0.084851436 W= 0.29933986 b= 0.44359535\n",
      "Epoch: 0200 cost= 0.083940066 W= 0.29638115 b= 0.4648797\n",
      "Epoch: 0250 cost= 0.083134115 W= 0.29359847 b= 0.48489857\n",
      "Epoch: 0300 cost= 0.082421407 W= 0.29098132 b= 0.5037261\n",
      "Epoch: 0350 cost= 0.081791222 W= 0.2885198 b= 0.5214339\n",
      "Epoch: 0400 cost= 0.081233911 W= 0.28620458 b= 0.53808933\n",
      "Epoch: 0450 cost= 0.080741115 W= 0.28402722 b= 0.55375385\n",
      "Epoch: 0500 cost= 0.080305405 W= 0.2819792 b= 0.5684868\n",
      "Epoch: 0550 cost= 0.079920135 W= 0.2800529 b= 0.5823441\n",
      "Epoch: 0600 cost= 0.079579487 W= 0.2782413 b= 0.5953769\n",
      "Epoch: 0650 cost= 0.079278328 W= 0.27653745 b= 0.6076345\n",
      "Epoch: 0700 cost= 0.079012059 W= 0.27493492 b= 0.6191628\n",
      "Epoch: 0750 cost= 0.078776672 W= 0.2734278 b= 0.63000447\n",
      "Epoch: 0800 cost= 0.078568593 W= 0.2720105 b= 0.6402012\n",
      "Epoch: 0850 cost= 0.078384653 W= 0.27067745 b= 0.6497907\n",
      "Epoch: 0900 cost= 0.078222029 W= 0.2694236 b= 0.6588108\n",
      "Epoch: 0950 cost= 0.078078270 W= 0.26824424 b= 0.6672949\n",
      "Epoch: 1000 cost= 0.077951215 W= 0.26713502 b= 0.6752744\n",
      "Training Finished!\n",
      "Training cost= 0.077951215 W= 0.26713502 b= 0.6752744 \n",
      "\n"
     ]
    }
   ],
   "source": [
    "# Parameters\n",
    "training_epochs = 1000\n",
    "display_step = 50\n",
    "\n",
    "# Start training\n",
    "sess = tf.Session()\n",
    "\n",
    "# Initialize the variables (i.e. assign their default value)\n",
    "init = tf.global_variables_initializer()\n",
    "sess.run(init)\n",
    "\n",
    "# Record learning curve\n",
    "lc_epoch = []\n",
    "lc_cost = []\n",
    "\n",
    "# Fit all training data\n",
    "for epoch in range(training_epochs):\n",
    "    for (x, y) in zip(train_X, train_Y):\n",
    "        sess.run(optimizer, feed_dict={X: x, Y: y})\n",
    "\n",
    "    # Display logs per epoch step\n",
    "    if epoch == 0 or (epoch + 1) % display_step == 0:\n",
    "        c = sess.run(cost, feed_dict={X: train_X, Y:train_Y})\n",
    "        print(\"Epoch:\", '%04d' % (epoch + 1), \"cost=\", \"{:.9f}\".format(c), \n",
    "              \"W=\", sess.run(W), \"b=\", sess.run(b))\n",
    "        lc_epoch.append(epoch + 1)\n",
    "        lc_cost.append(c)\n",
    "        \n",
    "print(\"Training Finished!\")\n",
    "training_cost = sess.run(cost, feed_dict={X: train_X, Y: train_Y})\n",
    "print(\"Training cost=\", training_cost, \"W=\", sess.run(W), \"b=\", sess.run(b), '\\n')"
   ]
  },
  {
   "cell_type": "code",
   "execution_count": 7,
   "metadata": {},
   "outputs": [
    {
     "data": {
      "image/png": "[encoded data removed]",
      "text/plain": [
       "<Figure size 432x288 with 1 Axes>"
      ]
     },
     "metadata": {},
     "output_type": "display_data"
    }
   ],
   "source": [
    "plt.plot(train_X, train_Y, 'ro', label='Original data')\n",
    "plt.plot(train_X, sess.run(W) * train_X + sess.run(b), label='Fitted line')\n",
    "plt.legend()\n",
    "plt.show()"
   ]
  },
  {
   "cell_type": "markdown",
   "metadata": {},
   "source": [
    "# 6. Learning Curve"
   ]
  },
  {
   "cell_type": "code",
   "execution_count": 10,
   "metadata": {},
   "outputs": [
    {
     "data": {
      "image/png": "[encoded data removed]",
      "text/plain": [
       "<Figure size 432x288 with 1 Axes>"
      ]
     },
     "metadata": {},
     "output_type": "display_data"
    }
   ],
   "source": [
    "plt.plot(lc_epoch, lc_cost, 'r-', label='Learning Curve')\n",
    "plt.legend()\n",
    "plt.show()"
   ]
  }
 ],
 "metadata": {
  "kernelspec": {
   "display_name": "Python 3",
   "language": "python",
   "name": "python3"
  },
  "language_info": {
   "codemirror_mode": {
    "name": "ipython",
    "version": 3
   },
   "file_extension": ".py",
   "mimetype": "text/x-python",
   "name": "python",
   "nbconvert_exporter": "python",
   "pygments_lexer": "ipython3",
   "version": "3.6.4"
  }
 },
 "nbformat": 4,
 "nbformat_minor": 2
}
